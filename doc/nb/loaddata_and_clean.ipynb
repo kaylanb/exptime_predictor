{
 "cells": [
  {
   "cell_type": "markdown",
   "metadata": {},
   "source": [
    "# Exposure Time Predictor\n",
    "Use observing conditions (sampled at earliest a few min ago, and many older points) to predict exposure time for next exposure at a new position, airmass, etc\n",
    "\n",
    "### Features vs. Answers\n",
    " * Features: obsdb statistics since that's what see when observing\n",
    " * Answers: expfactor using depth in CP images as that's what actually wan to achieve, which is NOT expfactor column in the obsdb db! \n",
    "\n",
    "### Prediction\n",
    "expfactor (exptime divided by a given band's nominal)\n",
    "\n",
    "### Features\n",
    "\n",
    "### Notes\n",
    " * supervised\n",
    " * online or batch?\n",
    " * regression classifier, model based\n",
    " * performance: RMSE\n",
    " * scaling of features: expfactor \n",
    " * cleaning\n",
    "  - transp > 0.9 for 50 consecutive exposures"
   ]
  },
  {
   "cell_type": "markdown",
   "metadata": {},
   "source": [
    "First, let's make sure this notebook works well in both python 2 and 3, import a few common modules, ensure MatplotLib plots figures inline and prepare a function to save the figures:"
   ]
  },
  {
   "cell_type": "code",
   "execution_count": 4,
   "metadata": {
    "collapsed": true
   },
   "outputs": [],
   "source": [
    "# To support both python 2 and python 3\n",
    "from __future__ import division, print_function, unicode_literals\n",
    "\n",
    "# Common imports\n",
    "import numpy as np\n",
    "import os\n",
    "import pandas as pd\n",
    "\n",
    "# to make this notebook's output stable across runs\n",
    "np.random.seed(7)\n",
    "\n",
    "# To plot pretty figures\n",
    "%matplotlib inline\n",
    "import matplotlib\n",
    "import matplotlib.pyplot as plt\n",
    "plt.rcParams['axes.labelsize'] = 14\n",
    "plt.rcParams['xtick.labelsize'] = 12\n",
    "plt.rcParams['ytick.labelsize'] = 12\n",
    "\n",
    "%load_ext autoreload\n",
    "%autoreload 2\n",
    "\n",
    "REPO_DIR= os.path.join(os.environ['HOME'],\n",
    "                       'PhdStudent/Research/desi/ml_data/')\n",
    "DB_DIR= os.path.join(REPO_DIR,'obsbot/obsdb')"
   ]
  },
  {
   "cell_type": "markdown",
   "metadata": {},
   "source": [
    "# Get the data"
   ]
  },
  {
   "cell_type": "code",
   "execution_count": 2,
   "metadata": {
    "collapsed": true
   },
   "outputs": [],
   "source": [
    "from exptime_predictor.data import Data,Clean"
   ]
  },
  {
   "cell_type": "code",
   "execution_count": 5,
   "metadata": {},
   "outputs": [
    {
     "name": "stdout",
     "output_type": "stream",
     "text": [
      "UNIX cmd: git pull origin master\n",
      "Reading sqlite db: /Users/kaylan1/PhdStudent/Research/desi/ml_data/obsbot/obsdb/decam.sqlite3\n",
      "Has tables:  [('django_migrations',), ('sqlite_sequence',), ('obsdb_measuredccd',)]\n",
      "executing query: select * from obsdb_measuredccd\n"
     ]
    }
   ],
   "source": [
    "d= Data(REPO_DIR)\n",
    "d.fetch_data()\n",
    "df = d.load_data()"
   ]
  },
  {
   "cell_type": "code",
   "execution_count": 153,
   "metadata": {},
   "outputs": [
    {
     "name": "stdout",
     "output_type": "stream",
     "text": [
      "<class 'pandas.core.frame.DataFrame'>\n",
      "Int64Index: 21365 entries, 0 to 28832\n",
      "Data columns (total 39 columns):\n",
      "id              21365 non-null int64\n",
      "filename        21365 non-null object\n",
      "extension       21365 non-null object\n",
      "expnum          21365 non-null int64\n",
      "exptime         21365 non-null float64\n",
      "mjd_obs         21365 non-null float64\n",
      "airmass         21365 non-null float64\n",
      "racenter        21365 non-null float64\n",
      "deccenter       21365 non-null float64\n",
      "rabore          21365 non-null float64\n",
      "decbore         21365 non-null float64\n",
      "band            21365 non-null object\n",
      "ebv             21365 non-null float64\n",
      "zeropoint       21365 non-null float64\n",
      "transparency    21365 non-null float64\n",
      "seeing          21365 non-null float64\n",
      "sky             21365 non-null float64\n",
      "expfactor       21365 non-null float64\n",
      "camera          21365 non-null object\n",
      "dx              21365 non-null float64\n",
      "dy              21365 non-null float64\n",
      "md5sum          21365 non-null object\n",
      "bad_pixcnt      21365 non-null int64\n",
      "readtime        21365 non-null float64\n",
      "nmatched        21365 non-null int64\n",
      "object          21365 non-null object\n",
      "passnumber      21365 non-null int64\n",
      "tileebv         21365 non-null float64\n",
      "tileid          21365 non-null int64\n",
      "obstype         21365 non-null object\n",
      "affine_dx       21365 non-null float64\n",
      "affine_dxx      21365 non-null float64\n",
      "affine_dxy      21365 non-null float64\n",
      "affine_dy       21365 non-null float64\n",
      "affine_dyx      21365 non-null float64\n",
      "affine_dyy      21365 non-null float64\n",
      "affine_x0       21365 non-null float64\n",
      "affine_y0       21365 non-null float64\n",
      "night_obs       21365 non-null int32\n",
      "dtypes: float64(25), int32(1), int64(6), object(7)\n",
      "memory usage: 7.1+ MB\n"
     ]
    }
   ],
   "source": [
    "df.info()"
   ]
  },
  {
   "cell_type": "code",
   "execution_count": 27,
   "metadata": {},
   "outputs": [
    {
     "data": {
      "text/html": [
       "<div>\n",
       "<style>\n",
       "    .dataframe thead tr:only-child th {\n",
       "        text-align: right;\n",
       "    }\n",
       "\n",
       "    .dataframe thead th {\n",
       "        text-align: left;\n",
       "    }\n",
       "\n",
       "    .dataframe tbody tr th {\n",
       "        vertical-align: top;\n",
       "    }\n",
       "</style>\n",
       "<table border=\"1\" class=\"dataframe\">\n",
       "  <thead>\n",
       "    <tr style=\"text-align: right;\">\n",
       "      <th></th>\n",
       "      <th>id</th>\n",
       "      <th>expnum</th>\n",
       "      <th>exptime</th>\n",
       "      <th>mjd_obs</th>\n",
       "      <th>airmass</th>\n",
       "      <th>racenter</th>\n",
       "      <th>deccenter</th>\n",
       "      <th>rabore</th>\n",
       "      <th>decbore</th>\n",
       "      <th>ebv</th>\n",
       "      <th>...</th>\n",
       "      <th>tileebv</th>\n",
       "      <th>tileid</th>\n",
       "      <th>affine_dx</th>\n",
       "      <th>affine_dxx</th>\n",
       "      <th>affine_dxy</th>\n",
       "      <th>affine_dy</th>\n",
       "      <th>affine_dyx</th>\n",
       "      <th>affine_dyy</th>\n",
       "      <th>affine_x0</th>\n",
       "      <th>affine_y0</th>\n",
       "    </tr>\n",
       "  </thead>\n",
       "  <tbody>\n",
       "    <tr>\n",
       "      <th>count</th>\n",
       "      <td>28833.000000</td>\n",
       "      <td>28833.000000</td>\n",
       "      <td>28833.000000</td>\n",
       "      <td>28833.000000</td>\n",
       "      <td>28833.000000</td>\n",
       "      <td>28833.000000</td>\n",
       "      <td>28833.000000</td>\n",
       "      <td>28833.000000</td>\n",
       "      <td>28833.000000</td>\n",
       "      <td>28833.000000</td>\n",
       "      <td>...</td>\n",
       "      <td>28833.000000</td>\n",
       "      <td>28833.000000</td>\n",
       "      <td>28833.000000</td>\n",
       "      <td>28833.000000</td>\n",
       "      <td>28833.000000</td>\n",
       "      <td>28833.000000</td>\n",
       "      <td>28833.000000</td>\n",
       "      <td>28833.000000</td>\n",
       "      <td>28833.000000</td>\n",
       "      <td>28833.000000</td>\n",
       "    </tr>\n",
       "    <tr>\n",
       "      <th>mean</th>\n",
       "      <td>14431.078625</td>\n",
       "      <td>560627.822530</td>\n",
       "      <td>87.433288</td>\n",
       "      <td>56853.854873</td>\n",
       "      <td>1.438167</td>\n",
       "      <td>151.523553</td>\n",
       "      <td>8.412245</td>\n",
       "      <td>193.183125</td>\n",
       "      <td>8.132037</td>\n",
       "      <td>0.036559</td>\n",
       "      <td>...</td>\n",
       "      <td>0.034614</td>\n",
       "      <td>15926.579579</td>\n",
       "      <td>-0.719712</td>\n",
       "      <td>0.707715</td>\n",
       "      <td>-0.000386</td>\n",
       "      <td>-6.631504</td>\n",
       "      <td>0.002075</td>\n",
       "      <td>0.708857</td>\n",
       "      <td>655.289009</td>\n",
       "      <td>1381.496653</td>\n",
       "    </tr>\n",
       "    <tr>\n",
       "      <th>std</th>\n",
       "      <td>8340.755394</td>\n",
       "      <td>114835.332314</td>\n",
       "      <td>62.757191</td>\n",
       "      <td>6604.921883</td>\n",
       "      <td>0.473826</td>\n",
       "      <td>115.715444</td>\n",
       "      <td>11.378085</td>\n",
       "      <td>96.327568</td>\n",
       "      <td>17.243986</td>\n",
       "      <td>0.036346</td>\n",
       "      <td>...</td>\n",
       "      <td>0.032069</td>\n",
       "      <td>15099.646869</td>\n",
       "      <td>1713.508761</td>\n",
       "      <td>2.484835</td>\n",
       "      <td>0.038888</td>\n",
       "      <td>1731.069609</td>\n",
       "      <td>2.178453</td>\n",
       "      <td>0.455108</td>\n",
       "      <td>419.630002</td>\n",
       "      <td>884.674450</td>\n",
       "    </tr>\n",
       "    <tr>\n",
       "      <th>min</th>\n",
       "      <td>1.000000</td>\n",
       "      <td>0.000000</td>\n",
       "      <td>0.000000</td>\n",
       "      <td>0.000000</td>\n",
       "      <td>0.000000</td>\n",
       "      <td>0.000000</td>\n",
       "      <td>-31.008436</td>\n",
       "      <td>0.000000</td>\n",
       "      <td>-73.137498</td>\n",
       "      <td>0.000000</td>\n",
       "      <td>...</td>\n",
       "      <td>0.000000</td>\n",
       "      <td>0.000000</td>\n",
       "      <td>-125344.323834</td>\n",
       "      <td>-337.862078</td>\n",
       "      <td>-0.499329</td>\n",
       "      <td>-160443.912944</td>\n",
       "      <td>-191.342786</td>\n",
       "      <td>-4.137312</td>\n",
       "      <td>0.000000</td>\n",
       "      <td>0.000000</td>\n",
       "    </tr>\n",
       "    <tr>\n",
       "      <th>25%</th>\n",
       "      <td>7209.000000</td>\n",
       "      <td>511915.000000</td>\n",
       "      <td>40.000000</td>\n",
       "      <td>57403.308506</td>\n",
       "      <td>1.270000</td>\n",
       "      <td>0.000000</td>\n",
       "      <td>0.000000</td>\n",
       "      <td>142.263000</td>\n",
       "      <td>0.000000</td>\n",
       "      <td>0.000000</td>\n",
       "      <td>...</td>\n",
       "      <td>0.000000</td>\n",
       "      <td>0.000000</td>\n",
       "      <td>-0.046398</td>\n",
       "      <td>0.000000</td>\n",
       "      <td>-0.001169</td>\n",
       "      <td>-0.098892</td>\n",
       "      <td>0.000000</td>\n",
       "      <td>0.000000</td>\n",
       "      <td>0.000000</td>\n",
       "      <td>0.000000</td>\n",
       "    </tr>\n",
       "    <tr>\n",
       "      <th>50%</th>\n",
       "      <td>14417.000000</td>\n",
       "      <td>592890.000000</td>\n",
       "      <td>80.000000</td>\n",
       "      <td>57707.311814</td>\n",
       "      <td>1.550000</td>\n",
       "      <td>170.058443</td>\n",
       "      <td>5.482479</td>\n",
       "      <td>199.458000</td>\n",
       "      <td>10.374000</td>\n",
       "      <td>0.030791</td>\n",
       "      <td>...</td>\n",
       "      <td>0.030020</td>\n",
       "      <td>13908.000000</td>\n",
       "      <td>0.000000</td>\n",
       "      <td>1.000173</td>\n",
       "      <td>-0.000188</td>\n",
       "      <td>0.000000</td>\n",
       "      <td>0.000220</td>\n",
       "      <td>0.999986</td>\n",
       "      <td>924.000000</td>\n",
       "      <td>1948.000000</td>\n",
       "    </tr>\n",
       "    <tr>\n",
       "      <th>75%</th>\n",
       "      <td>21673.000000</td>\n",
       "      <td>647967.000000</td>\n",
       "      <td>125.000000</td>\n",
       "      <td>57886.831639</td>\n",
       "      <td>1.640000</td>\n",
       "      <td>230.267167</td>\n",
       "      <td>17.641923</td>\n",
       "      <td>250.345000</td>\n",
       "      <td>20.805305</td>\n",
       "      <td>0.051323</td>\n",
       "      <td>...</td>\n",
       "      <td>0.049628</td>\n",
       "      <td>29049.000000</td>\n",
       "      <td>0.059452</td>\n",
       "      <td>1.000386</td>\n",
       "      <td>0.000000</td>\n",
       "      <td>0.000000</td>\n",
       "      <td>0.001123</td>\n",
       "      <td>1.000122</td>\n",
       "      <td>924.000000</td>\n",
       "      <td>1948.000000</td>\n",
       "    </tr>\n",
       "    <tr>\n",
       "      <th>max</th>\n",
       "      <td>28881.000000</td>\n",
       "      <td>670845.000000</td>\n",
       "      <td>350.000000</td>\n",
       "      <td>57988.220115</td>\n",
       "      <td>2.520000</td>\n",
       "      <td>359.992843</td>\n",
       "      <td>34.745923</td>\n",
       "      <td>359.865825</td>\n",
       "      <td>34.821000</td>\n",
       "      <td>0.736545</td>\n",
       "      <td>...</td>\n",
       "      <td>0.261505</td>\n",
       "      <td>47616.000000</td>\n",
       "      <td>205151.430472</td>\n",
       "      <td>144.511725</td>\n",
       "      <td>6.489342</td>\n",
       "      <td>170406.659776</td>\n",
       "      <td>184.193757</td>\n",
       "      <td>1.019189</td>\n",
       "      <td>924.000000</td>\n",
       "      <td>1948.000000</td>\n",
       "    </tr>\n",
       "  </tbody>\n",
       "</table>\n",
       "<p>8 rows × 31 columns</p>\n",
       "</div>"
      ],
      "text/plain": [
       "                 id         expnum       exptime       mjd_obs       airmass  \\\n",
       "count  28833.000000   28833.000000  28833.000000  28833.000000  28833.000000   \n",
       "mean   14431.078625  560627.822530     87.433288  56853.854873      1.438167   \n",
       "std     8340.755394  114835.332314     62.757191   6604.921883      0.473826   \n",
       "min        1.000000       0.000000      0.000000      0.000000      0.000000   \n",
       "25%     7209.000000  511915.000000     40.000000  57403.308506      1.270000   \n",
       "50%    14417.000000  592890.000000     80.000000  57707.311814      1.550000   \n",
       "75%    21673.000000  647967.000000    125.000000  57886.831639      1.640000   \n",
       "max    28881.000000  670845.000000    350.000000  57988.220115      2.520000   \n",
       "\n",
       "           racenter     deccenter        rabore       decbore           ebv  \\\n",
       "count  28833.000000  28833.000000  28833.000000  28833.000000  28833.000000   \n",
       "mean     151.523553      8.412245    193.183125      8.132037      0.036559   \n",
       "std      115.715444     11.378085     96.327568     17.243986      0.036346   \n",
       "min        0.000000    -31.008436      0.000000    -73.137498      0.000000   \n",
       "25%        0.000000      0.000000    142.263000      0.000000      0.000000   \n",
       "50%      170.058443      5.482479    199.458000     10.374000      0.030791   \n",
       "75%      230.267167     17.641923    250.345000     20.805305      0.051323   \n",
       "max      359.992843     34.745923    359.865825     34.821000      0.736545   \n",
       "\n",
       "           ...            tileebv        tileid      affine_dx    affine_dxx  \\\n",
       "count      ...       28833.000000  28833.000000   28833.000000  28833.000000   \n",
       "mean       ...           0.034614  15926.579579      -0.719712      0.707715   \n",
       "std        ...           0.032069  15099.646869    1713.508761      2.484835   \n",
       "min        ...           0.000000      0.000000 -125344.323834   -337.862078   \n",
       "25%        ...           0.000000      0.000000      -0.046398      0.000000   \n",
       "50%        ...           0.030020  13908.000000       0.000000      1.000173   \n",
       "75%        ...           0.049628  29049.000000       0.059452      1.000386   \n",
       "max        ...           0.261505  47616.000000  205151.430472    144.511725   \n",
       "\n",
       "         affine_dxy      affine_dy    affine_dyx    affine_dyy     affine_x0  \\\n",
       "count  28833.000000   28833.000000  28833.000000  28833.000000  28833.000000   \n",
       "mean      -0.000386      -6.631504      0.002075      0.708857    655.289009   \n",
       "std        0.038888    1731.069609      2.178453      0.455108    419.630002   \n",
       "min       -0.499329 -160443.912944   -191.342786     -4.137312      0.000000   \n",
       "25%       -0.001169      -0.098892      0.000000      0.000000      0.000000   \n",
       "50%       -0.000188       0.000000      0.000220      0.999986    924.000000   \n",
       "75%        0.000000       0.000000      0.001123      1.000122    924.000000   \n",
       "max        6.489342  170406.659776    184.193757      1.019189    924.000000   \n",
       "\n",
       "          affine_y0  \n",
       "count  28833.000000  \n",
       "mean    1381.496653  \n",
       "std      884.674450  \n",
       "min        0.000000  \n",
       "25%        0.000000  \n",
       "50%     1948.000000  \n",
       "75%     1948.000000  \n",
       "max     1948.000000  \n",
       "\n",
       "[8 rows x 31 columns]"
      ]
     },
     "execution_count": 27,
     "metadata": {},
     "output_type": "execute_result"
    }
   ],
   "source": [
    "df.describe()"
   ]
  },
  {
   "cell_type": "code",
   "execution_count": 36,
   "metadata": {},
   "outputs": [
    {
     "data": {
      "text/plain": [
       "object       21365\n",
       "dome flat     2749\n",
       "zero             2\n",
       "Name: obstype, dtype: int64"
      ]
     },
     "execution_count": 36,
     "metadata": {},
     "output_type": "execute_result"
    }
   ],
   "source": [
    "#df.loc[:,'band'].values= np.char.strip(df.loc[:,'band'].values)\n",
    "df.loc[:,'obstype'].value_counts()"
   ]
  },
  {
   "cell_type": "code",
   "execution_count": 38,
   "metadata": {},
   "outputs": [
    {
     "name": "stdout",
     "output_type": "stream",
     "text": [
      "BAND\n",
      "z    9049\n",
      "r    6168\n",
      "g    6148\n",
      "Name: band, dtype: int64\n",
      "OBSTYPE\n",
      "object    21365\n",
      "Name: obstype, dtype: int64\n"
     ]
    }
   ],
   "source": [
    "bands= df.loc[:,'band']\n",
    "df= df[(bands == 'g') |\n",
    "       (bands == 'r') | \n",
    "       (bands == 'z') ]\n",
    "df= df[(df.loc[:,'obstype'] == 'object')]\n",
    "for key in ['band','obstype']:\n",
    "    print(key.upper())\n",
    "    print(df.loc[:,key].value_counts() ) "
   ]
  },
  {
   "cell_type": "markdown",
   "metadata": {},
   "source": [
    "# Add night_obs column\n",
    "labels each exposure with the \"observing night\" it was taken on "
   ]
  },
  {
   "cell_type": "code",
   "execution_count": 48,
   "metadata": {
    "collapsed": true
   },
   "outputs": [],
   "source": [
    "from astropy.time import Time"
   ]
  },
  {
   "cell_type": "code",
   "execution_count": 87,
   "metadata": {},
   "outputs": [
    {
     "data": {
      "text/plain": [
       "array(['2016-02-25 05:11:31.769', '2016-02-25 05:16:21.401',\n",
       "       '2016-02-25 05:09:01.413', ..., '2017-08-23 05:05:59.891',\n",
       "       '2017-08-23 05:13:04.903', '2017-08-23 05:16:57.944'],\n",
       "      dtype='<U23')"
      ]
     },
     "execution_count": 87,
     "metadata": {},
     "output_type": "execute_result"
    }
   ],
   "source": [
    "t = Time(df.loc[:,'mjd_obs'], format='mjd')\n",
    "t.iso"
   ]
  },
  {
   "cell_type": "code",
   "execution_count": 125,
   "metadata": {},
   "outputs": [
    {
     "data": {
      "text/plain": [
       "<matplotlib.collections.PathCollection at 0x11b50e9e8>"
      ]
     },
     "execution_count": 125,
     "metadata": {},
     "output_type": "execute_result"
    },
    {
     "data": {
      "image/png": "[encoded data removed]",
      "text/plain": [
       "<matplotlib.figure.Figure at 0x11b498390>"
      ]
     },
     "metadata": {},
     "output_type": "display_data"
    }
   ],
   "source": [
    "day_str= np.array([a.split(' ')[0] for a in t.iso])\n",
    "hr_str= np.array([a.split(' ')[1] for a in t.iso])\n",
    "day= np.char.replace(day_str,'-','').astype(int)\n",
    "hr= np.char.replace(hr_str,':','').astype(float)\n",
    "plt.scatter(day,hr)"
   ]
  },
  {
   "cell_type": "code",
   "execution_count": 126,
   "metadata": {},
   "outputs": [
    {
     "data": {
      "image/png": "[encoded data removed]",
      "text/plain": [
       "<matplotlib.figure.Figure at 0x1192641d0>"
      ]
     },
     "metadata": {},
     "output_type": "display_data"
    }
   ],
   "source": [
    "_=plt.hist(hr)"
   ]
  },
  {
   "cell_type": "code",
   "execution_count": 155,
   "metadata": {
    "collapsed": true
   },
   "outputs": [],
   "source": [
    "import time\n",
    "from datetime import date, timedelta\n",
    "\n",
    "def get_next_day(ymd):\n",
    "    \"\"\"given year month day string (ymd) return next calendar day\n",
    "    \n",
    "    Args:\n",
    "        ymd: '20110531'\n",
    "        \n",
    "    Returns:\n",
    "        ymd for next day: '20110601' for example above\n",
    "    \"\"\"\n",
    "    t=time.strptime('20110531','%Y%m%d')\n",
    "    newdate=date(t.tm_year,t.tm_mon,t.tm_mday)+timedelta(1)\n",
    "    return newdate.strftime('%Y%m%d')"
   ]
  },
  {
   "cell_type": "code",
   "execution_count": 139,
   "metadata": {
    "collapsed": true
   },
   "outputs": [],
   "source": [
    "night_arr= np.zeros(len(df)).astype(np.int32) - 1\n",
    "\n",
    "hr_thresh= 150000.\n",
    "nights= np.sort( list(set(day)))\n",
    "for night in nights:\n",
    "    # night starts at nighttime\n",
    "    first_half= (day == night) & (hr > hr_thresh)\n",
    "    # night continues to morning of next day\n",
    "    str_next_day= get_next_day(str(night))\n",
    "    sec_half= (day == int(str_next_day) ) & (hr < hr_thresh)\n",
    "    keep= first_half | sec_half\n",
    "    if np.where(keep)[0].size > 0:\n",
    "        night_arr[keep]= night\n",
    "\n",
    "# add colm to df\n",
    "df= df.assign(night_obs= night_arr)\n",
    "        \n",
    "    "
   ]
  },
  {
   "cell_type": "code",
   "execution_count": 154,
   "metadata": {},
   "outputs": [
    {
     "data": {
      "text/plain": [
       "-1           20317\n",
       " 20160802       44\n",
       " 20170504       31\n",
       " 20170521       31\n",
       " 20170721       31\n",
       " 20160803       27\n",
       " 20160608       27\n",
       " 20170717       26\n",
       " 20170718       25\n",
       " 20160720       25\n",
       " 20140816       25\n",
       " 20140812       25\n",
       " 20170520       24\n",
       " 20140811       24\n",
       " 20160812       23\n",
       " 20170513       22\n",
       " 20140810       22\n",
       " 20150411       21\n",
       " 20160723       21\n",
       " 20160811       21\n",
       " 20140818       21\n",
       " 20140817       20\n",
       " 20140815       20\n",
       " 20160813       20\n",
       " 20170519       20\n",
       " 20170421       19\n",
       " 20160409       18\n",
       " 20170724       18\n",
       " 20170729       18\n",
       " 20150407       18\n",
       "             ...  \n",
       " 20170731       15\n",
       " 20160410       14\n",
       " 20160408       14\n",
       " 20170726       14\n",
       " 20150328       10\n",
       " 20150408       10\n",
       " 20170331        9\n",
       " 20170329        9\n",
       " 20150327        9\n",
       " 20170326        9\n",
       " 20150329        9\n",
       " 20170503        9\n",
       " 20170328        9\n",
       " 20170819        8\n",
       " 20170330        8\n",
       " 20161011        6\n",
       " 20151028        5\n",
       " 20170315        5\n",
       " 20170728        4\n",
       " 20170327        4\n",
       " 20140813        3\n",
       " 20170730        3\n",
       " 20170305        3\n",
       " 20170822        2\n",
       " 20160709        2\n",
       " 20170821        2\n",
       " 20170820        1\n",
       " 20170302        1\n",
       " 20170303        1\n",
       " 20170304        1\n",
       "Name: night_obs, Length: 70, dtype: int64"
      ]
     },
     "execution_count": 154,
     "metadata": {},
     "output_type": "execute_result"
    }
   ],
   "source": [
    "df.loc[:,'night_obs'].value_counts()"
   ]
  }
 ],
 "metadata": {
  "kernelspec": {
   "display_name": "Python 3",
   "language": "python",
   "name": "python3"
  },
  "language_info": {
   "codemirror_mode": {
    "name": "ipython",
    "version": 3
   },
   "file_extension": ".py",
   "mimetype": "text/x-python",
   "name": "python",
   "nbconvert_exporter": "python",
   "pygments_lexer": "ipython3",
   "version": "3.6.2"
  },
  "nav_menu": {
   "height": "279px",
   "width": "309px"
  },
  "toc": {
   "navigate_menu": true,
   "number_sections": true,
   "sideBar": true,
   "threshold": 6,
   "toc_cell": false,
   "toc_section_display": "block",
   "toc_window_display": false
  }
 },
 "nbformat": 4,
 "nbformat_minor": 1
}
