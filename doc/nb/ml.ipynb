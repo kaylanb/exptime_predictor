{
 "cells": [
  {
   "cell_type": "markdown",
   "metadata": {},
   "source": [
    "# Exposure Time Predictor\n",
    "Use observing conditions (sampled at earliest a few min ago, and many older points) to predict exposure time for next exposure at a new position, airmass, etc\n",
    "\n",
    "### Features vs. Answers\n",
    " * Features: obsdb statistics since that's what see when observing\n",
    " * Answers: expfactor using depth in CP images as that's what actually wan to achieve, which is NOT expfactor column in the obsdb db! \n",
    "\n",
    "### Prediction\n",
    "expfactor (exptime divided by a given band's nominal)\n",
    "\n",
    "### Features\n",
    "\n",
    "### Notes\n",
    " * supervised\n",
    " * online or batch?\n",
    " * regression classifier, model based\n",
    " * performance: RMSE\n",
    " * scaling of features: expfactor \n",
    " * cleaning\n",
    "  - transp > 0.9 for 50 consecutive exposures"
   ]
  },
  {
   "cell_type": "markdown",
   "metadata": {},
   "source": [
    "# Starting where \"addylabel_and_splittraintest\" left off"
   ]
  },
  {
   "cell_type": "code",
   "execution_count": 130,
   "metadata": {},
   "outputs": [
    {
     "name": "stdout",
     "output_type": "stream",
     "text": [
      "The autoreload extension is already loaded. To reload it, use:\n",
      "  %reload_ext autoreload\n"
     ]
    }
   ],
   "source": [
    "# To support both python 2 and python 3\n",
    "from __future__ import division, print_function, unicode_literals\n",
    "\n",
    "# Common imports\n",
    "import numpy as np\n",
    "import os\n",
    "import pandas as pd\n",
    "import seaborn as sns\n",
    "sns.set_context(\"notebook\")\n",
    "\n",
    "# to make this notebook's output stable across runs\n",
    "np.random.seed(7)\n",
    "\n",
    "# To plot pretty figures\n",
    "%matplotlib inline\n",
    "import matplotlib\n",
    "import matplotlib.pyplot as plt\n",
    "plt.rcParams['axes.labelsize'] = 14\n",
    "plt.rcParams['xtick.labelsize'] = 12\n",
    "plt.rcParams['ytick.labelsize'] = 12\n",
    "\n",
    "%load_ext autoreload\n",
    "%autoreload 2\n",
    "\n",
    "REPO_DIR= os.path.join(os.environ['HOME'],\n",
    "                       'PhdStudent/Research/desi/ml_data/')\n",
    "DB_DIR= os.path.join(REPO_DIR,'obsbot/obsdb')"
   ]
  },
  {
   "cell_type": "code",
   "execution_count": 131,
   "metadata": {
    "collapsed": true
   },
   "outputs": [],
   "source": [
    "# from exptime_predictor.data import main\n",
    "# df_train= main()"
   ]
  },
  {
   "cell_type": "code",
   "execution_count": 132,
   "metadata": {
    "scrolled": true
   },
   "outputs": [
    {
     "name": "stdout",
     "output_type": "stream",
     "text": [
      "UNIX cmd: git pull origin master\n",
      "UNIX cmd: git checkout 84d63bb9aa33b\n",
      "Reading sqlite db: /Users/kaylan1/PhdStudent/Research/desi/ml_data/obsbot/obsdb/decam.sqlite3\n",
      "Has tables:  [('django_migrations',), ('sqlite_sequence',), ('obsdb_measuredccd',)]\n",
      "executing query: select * from obsdb_measuredccd\n",
      "Cutting to < 20 exposures: 21136/21365\n",
      "Cutting to 19687/21136\n"
     ]
    }
   ],
   "source": [
    "from exptime_predictor.data import GetData,Clean,AddYlabel,Split_TrainTest\n",
    "d= GetData(REPO_DIR)\n",
    "d.fetch()\n",
    "df = d.load()\n",
    "\n",
    "df= Clean().keep_science_exposures(df)\n",
    "df= Clean().add_night_obs(df)\n",
    "df= Clean().order_by_mjd(df)\n",
    "df= Clean().add_hr_obs(df)\n",
    "\n",
    "#df= Clean().drop_bad_transp(df, thresh=0.9)\n",
    "df= Clean().drop_nights_wfew_exposures(df, nexp=20)\n",
    "\n",
    "df= AddYlabel().add_tneed(df)\n",
    "df= AddYlabel().constrain_tneed(df)\n",
    "\n",
    "df_train,df_test= Split_TrainTest().random_sampling(df)\n",
    "# Prevent accidental ref to full data set\n",
    "del df"
   ]
  },
  {
   "cell_type": "code",
   "execution_count": 133,
   "metadata": {},
   "outputs": [
    {
     "data": {
      "text/plain": [
       "<matplotlib.axes._subplots.AxesSubplot at 0x120e61dd8>"
      ]
     },
     "execution_count": 133,
     "metadata": {},
     "output_type": "execute_result"
    },
    {
     "data": {
      "image/png": "[encoded data removed]",
      "text/plain": [
       "<matplotlib.figure.Figure at 0x1266b90f0>"
      ]
     },
     "metadata": {},
     "output_type": "display_data"
    }
   ],
   "source": [
    "sns.distplot(df_train['tneed'])"
   ]
  },
  {
   "cell_type": "code",
   "execution_count": 138,
   "metadata": {},
   "outputs": [
    {
     "data": {
      "text/plain": [
       "tneed           1.000000\n",
       "expfactor       0.903407\n",
       "exptime         0.578232\n",
       "seeing          0.562119\n",
       "airmass         0.368528\n",
       "passnumber      0.314984\n",
       "tileid          0.290715\n",
       "ebv             0.237752\n",
       "decbore         0.218260\n",
       "deccenter       0.218162\n",
       "tileebv         0.200028\n",
       "id              0.119086\n",
       "affine_dyy      0.114889\n",
       "affine_y0       0.114875\n",
       "affine_x0       0.114875\n",
       "nmatched        0.114804\n",
       "affine_dxx      0.114628\n",
       "rabore          0.075718\n",
       "racenter        0.073103\n",
       "affine_dxy      0.032897\n",
       "affine_dyx      0.018861\n",
       "affine_dx       0.017571\n",
       "dy              0.004039\n",
       "affine_dy      -0.018903\n",
       "mjd_obs        -0.044329\n",
       "transparency   -0.044552\n",
       "expnum         -0.055043\n",
       "hr_obs         -0.082844\n",
       "dx             -0.085277\n",
       "night_obs      -0.109602\n",
       "sky            -0.171515\n",
       "zeropoint      -0.510508\n",
       "bad_pixcnt           NaN\n",
       "readtime             NaN\n",
       "Name: tneed, dtype: float64"
      ]
     },
     "execution_count": 138,
     "metadata": {},
     "output_type": "execute_result"
    }
   ],
   "source": [
    "corr_matrix = df_train.corr()\n",
    "corr_matrix[\"tneed\"].sort_values(ascending=False)"
   ]
  },
  {
   "cell_type": "markdown",
   "metadata": {},
   "source": [
    "# Inspect nights with 50-200 exposures"
   ]
  },
  {
   "cell_type": "code",
   "execution_count": 134,
   "metadata": {},
   "outputs": [
    {
     "data": {
      "text/plain": [
       "array([20141227, 20141228, 20141230, 20150414, 20151010, 20160107,\n",
       "       20160108, 20160116, 20161114, 20161227, 20161228, 20170331,\n",
       "       20170405, 20170418, 20170504, 20170518, 20170729, 20170731, 20170818])"
      ]
     },
     "execution_count": 134,
     "metadata": {},
     "output_type": "execute_result"
    }
   ],
   "source": [
    "a=df_train['night_obs'].value_counts().rename(\"cnt\").to_frame()\n",
    "nights= a.index[ (a['cnt'] > 50) & (a['cnt'] < 200)]\n",
    "nights= nights.values\n",
    "np.sort(nights)"
   ]
  },
  {
   "cell_type": "code",
   "execution_count": 136,
   "metadata": {},
   "outputs": [
    {
     "data": {
      "text/plain": [
       "<matplotlib.collections.PathCollection at 0x1259c6c50>"
      ]
     },
     "execution_count": 136,
     "metadata": {},
     "output_type": "execute_result"
    },
    {
     "data": {
      "image/png": "[encoded data removed]",
      "text/plain": [
       "<matplotlib.figure.Figure at 0x1271b1ef0>"
      ]
     },
     "metadata": {},
     "output_type": "display_data"
    }
   ],
   "source": [
    "isNight= df_train['night_obs'] == nights[0]\n",
    "plt.scatter(df_train.loc[isNight,'hr_obs'],\n",
    "            df_train.loc[isNight,'seeing'])"
   ]
  },
  {
   "cell_type": "code",
   "execution_count": 137,
   "metadata": {},
   "outputs": [
    {
     "data": {
      "image/png": "[encoded data removed]",
      "text/plain": [
       "<matplotlib.figure.Figure at 0x120e62a20>"
      ]
     },
     "metadata": {},
     "output_type": "display_data"
    }
   ],
   "source": [
    "stats= ['seeing','airmass','nmatched','transparency']\n",
    "lims= dict(seeing= None,\n",
    "           transparency=[0.7,1.2],\n",
    "           airmass=None,\n",
    "           nmatched=None)\n",
    "\n",
    "fig,ax= plt.subplots(len(stats),1,figsize=(5,10))\n",
    "plt.subplots_adjust(hspace=0)\n",
    "\n",
    "for night in np.sort(nights):\n",
    "    #if '2014' in str(night):\n",
    "    isNight= df_train['night_obs'] == night\n",
    "    for iax,stat in enumerate(stats):\n",
    "        y= X[oneNight, ix[stat]]\n",
    "        ax[iax].scatter(df_train.loc[isNight,'hr_obs'],\n",
    "                        df_train.loc[isNight,stat],\n",
    "                        label= night)\n",
    "    leg= ax[0].legend(loc=(0,1.01),ncol=2,title='Night Observed')\n",
    "    xlab= ax[-1].set_xlabel('Hours since first exposure')\n",
    "    for iax,stat in enumerate(stats):\n",
    "        ylab= ax[iax].set_ylabel(stat)\n",
    "        if lims[stat]:\n",
    "            ax[iax].set_ylim(lims[stat])"
   ]
  },
  {
   "cell_type": "markdown",
   "metadata": {},
   "source": [
    "# Repackage for ML"
   ]
  },
  {
   "cell_type": "code",
   "execution_count": 29,
   "metadata": {
    "collapsed": true
   },
   "outputs": [],
   "source": [
    "df = df_train.drop(\"tneed\", axis=1)\n",
    "df_labels = df_train[\"tneed\"].copy()"
   ]
  },
  {
   "cell_type": "code",
   "execution_count": 85,
   "metadata": {},
   "outputs": [
    {
     "data": {
      "text/plain": [
       "(16354, 16512)"
      ]
     },
     "execution_count": 85,
     "metadata": {},
     "output_type": "execute_result"
    }
   ],
   "source": [
    "#len(housing.dropna(subset=[\"total_bedrooms\"])),len(housing)"
   ]
  },
  {
   "cell_type": "code",
   "execution_count": 42,
   "metadata": {},
   "outputs": [
    {
     "name": "stderr",
     "output_type": "stream",
     "text": [
      "[autoreload of exptime_predictor.data failed: Traceback (most recent call last):\n",
      "  File \"/Users/kaylan1/miniconda3/envs/mlbook/lib/python3.6/site-packages/IPython/extensions/autoreload.py\", line 246, in check\n",
      "    superreload(m, reload, self.old_objects)\n",
      "  File \"/Users/kaylan1/miniconda3/envs/mlbook/lib/python3.6/site-packages/IPython/extensions/autoreload.py\", line 369, in superreload\n",
      "    module = reload(module)\n",
      "  File \"/Users/kaylan1/miniconda3/envs/mlbook/lib/python3.6/imp.py\", line 314, in reload\n",
      "    return importlib.reload(module)\n",
      "  File \"/Users/kaylan1/miniconda3/envs/mlbook/lib/python3.6/importlib/__init__.py\", line 166, in reload\n",
      "    _bootstrap._exec(spec, module)\n",
      "  File \"<frozen importlib._bootstrap>\", line 608, in _exec\n",
      "  File \"<frozen importlib._bootstrap_external>\", line 674, in exec_module\n",
      "  File \"<frozen importlib._bootstrap_external>\", line 781, in get_code\n",
      "  File \"<frozen importlib._bootstrap_external>\", line 741, in source_to_code\n",
      "  File \"<frozen importlib._bootstrap>\", line 205, in _call_with_frames_removed\n",
      "  File \"/Users/kaylan1/PhdStudent/Research/desi/mlbook/exptime_predictor/py/exptime_predictor/data.py\", line 217\n",
      "    return df.drop(cols,axis=1)\n",
      "         ^\n",
      "SyntaxError: invalid syntax\n",
      "]\n"
     ]
    },
    {
     "data": {
      "text/plain": [
       "object    8681\n",
       "Name: obstype, dtype: int64"
      ]
     },
     "execution_count": 42,
     "metadata": {},
     "output_type": "execute_result"
    }
   ],
   "source": [
    "df['obstype'].value_counts()"
   ]
  },
  {
   "cell_type": "code",
   "execution_count": 41,
   "metadata": {},
   "outputs": [
    {
     "data": {
      "text/plain": [
       "DeCaLS            24\n",
       "hex check         15\n",
       "                  12\n",
       "test              11\n",
       "junk              11\n",
       "DECaLS_Start_z    11\n",
       "pointing          10\n",
       "hexapod update     3\n",
       "Hexapod update     3\n",
       "DECaLS_15163_z     2\n",
       "DECaLS_7110_r      2\n",
       "DECaLS_33759_r     2\n",
       "DECaLS_22892_g     2\n",
       "DECaLS_22674_g     2\n",
       "DECaLS_30992_z     2\n",
       "DECaLS_15285_r     2\n",
       "DECaLS_26573_g     2\n",
       "DECaLS_44924_z     2\n",
       "DECaLS_23802_r     2\n",
       "DECaLS_15340_g     2\n",
       "DECaLS_17887_z     2\n",
       "DECaLS_1183_g      2\n",
       "DECaLS_15164_z     2\n",
       "DECaLS_29823_g     2\n",
       "DECaLS_1236_z      2\n",
       "DECaLS_5096_z      2\n",
       "DECaLS_29094_g     2\n",
       "DECaLS_33799_g     2\n",
       "DECaLS_235_z       2\n",
       "DECaLS_43415_r     2\n",
       "                  ..\n",
       "DECaLS_1181_z      1\n",
       "DECaLS_46878_r     1\n",
       "DECaLS_26516_g     1\n",
       "DECaLS_34967_z     1\n",
       "DECaLS_31735_g     1\n",
       "DECaLS_10853_g     1\n",
       "DECaLS_19168_z     1\n",
       "DECaLS_186_r       1\n",
       "DECaLS_9653_g      1\n",
       "DECaLS_3323_z      1\n",
       "DECaLS_9775_z      1\n",
       "DECaLS_17938_z     1\n",
       "DECaLS_25469_r     1\n",
       "DECaLS_23757_z     1\n",
       "DECaLS_23719_z     1\n",
       "DECaLS_41516_z     1\n",
       "DECaLS_1295_g      1\n",
       "DECaLS_29782_g     1\n",
       "DECaLS_31780_z     1\n",
       "DECaLS_15830_z     1\n",
       "DECaLS_3301_g      1\n",
       "DECaLS_42476_r     1\n",
       "DECaLS_23019_z     1\n",
       "DECaLS_6703_z      1\n",
       "DECaLS_1979_r      1\n",
       "DECaLS_1211_r      1\n",
       "DECaLS_9_g         1\n",
       "DECaLS_1904_r      1\n",
       "DECaLS_9791_z      1\n",
       "DECaLS_22912_g     1\n",
       "Name: object, Length: 8449, dtype: int64"
      ]
     },
     "execution_count": 41,
     "metadata": {},
     "output_type": "execute_result"
    }
   ],
   "source": [
    "df['object'].value_counts()"
   ]
  },
  {
   "cell_type": "code",
   "execution_count": 34,
   "metadata": {},
   "outputs": [
    {
     "name": "stdout",
     "output_type": "stream",
     "text": [
      "<class 'pandas.core.frame.DataFrame'>\n",
      "Int64Index: 8681 entries, 106 to 28534\n",
      "Data columns (total 35 columns):\n",
      "id            8681 non-null int64\n",
      "filename      8681 non-null object\n",
      "extension     8681 non-null object\n",
      "exptime       8681 non-null float64\n",
      "airmass       8681 non-null float64\n",
      "racenter      8681 non-null float64\n",
      "deccenter     8681 non-null float64\n",
      "rabore        8681 non-null float64\n",
      "decbore       8681 non-null float64\n",
      "band          8681 non-null object\n",
      "ebv           8681 non-null float64\n",
      "zeropoint     8681 non-null float64\n",
      "seeing        8681 non-null float64\n",
      "sky           8681 non-null float64\n",
      "expfactor     8681 non-null float64\n",
      "camera        8681 non-null object\n",
      "dx            8681 non-null float64\n",
      "dy            8681 non-null float64\n",
      "md5sum        8681 non-null object\n",
      "nmatched      8681 non-null int64\n",
      "object        8681 non-null object\n",
      "passnumber    8681 non-null int64\n",
      "tileebv       8681 non-null float64\n",
      "tileid        8681 non-null int64\n",
      "obstype       8681 non-null object\n",
      "affine_dx     8681 non-null float64\n",
      "affine_dxx    8681 non-null float64\n",
      "affine_dxy    8681 non-null float64\n",
      "affine_dy     8681 non-null float64\n",
      "affine_dyx    8681 non-null float64\n",
      "affine_dyy    8681 non-null float64\n",
      "affine_x0     8681 non-null float64\n",
      "affine_y0     8681 non-null float64\n",
      "night_obs     8681 non-null int64\n",
      "hr_obs        8681 non-null float64\n",
      "dtypes: float64(23), int64(5), object(7)\n",
      "memory usage: 2.7+ MB\n"
     ]
    }
   ],
   "source": [
    "df.info()"
   ]
  },
  {
   "cell_type": "code",
   "execution_count": 52,
   "metadata": {},
   "outputs": [
    {
     "name": "stdout",
     "output_type": "stream",
     "text": [
      "[2 2 2 ..., 0 0 1]\n"
     ]
    },
    {
     "data": {
      "text/plain": [
       "<8681x3 sparse matrix of type '<class 'numpy.float64'>'\n",
       "\twith 8681 stored elements in Compressed Sparse Row format>"
      ]
     },
     "execution_count": 52,
     "metadata": {},
     "output_type": "execute_result"
    }
   ],
   "source": [
    "from sklearn.preprocessing import LabelEncoder,OneHotEncoder\n",
    "\n",
    "# text to integers\n",
    "label_encoder = LabelEncoder()\n",
    "encoded = label_encoder.fit_transform(df['band'])\n",
    "print(encoded)\n",
    "# integers to hot/cold vectors\n",
    "hot_encoder= OneHotEncoder()\n",
    "hot_encoded = hot_encoder.fit_transform(encoded.reshape(-1,1))\n",
    "hot_encoded"
   ]
  },
  {
   "cell_type": "markdown",
   "metadata": {},
   "source": [
    "# Select and train a model "
   ]
  },
  {
   "cell_type": "code",
   "execution_count": null,
   "metadata": {
    "collapsed": true
   },
   "outputs": [],
   "source": [
    "cols= ['night_obs','hr_obs','mjd_obs',\n",
    "       'seeing','airmass','nmatched','transparency']\n",
    "\n",
    "X= df_train.loc[:,cols].values\n",
    "\n",
    "ix= {}\n",
    "for i,col in enumerate(cols):\n",
    "    ix[col]=i\n",
    "X.shape"
   ]
  },
  {
   "cell_type": "code",
   "execution_count": 114,
   "metadata": {},
   "outputs": [
    {
     "data": {
      "text/plain": [
       "LinearRegression(copy_X=True, fit_intercept=True, n_jobs=1, normalize=False)"
      ]
     },
     "execution_count": 114,
     "metadata": {},
     "output_type": "execute_result"
    }
   ],
   "source": [
    "from sklearn.linear_model import LinearRegression\n",
    "\n",
    "lin_reg = LinearRegression()\n",
    "lin_reg.fit(housing_prepared, housing_labels)"
   ]
  },
  {
   "cell_type": "code",
   "execution_count": 115,
   "metadata": {},
   "outputs": [
    {
     "name": "stdout",
     "output_type": "stream",
     "text": [
      "Predictions: [ 210644.60459286  317768.80697211  210956.43331178   59218.98886849\n",
      "  189747.55849879]\n"
     ]
    }
   ],
   "source": [
    "# let's try the full pipeline on a few training instances\n",
    "some_data = housing.iloc[:5]\n",
    "some_labels = housing_labels.iloc[:5]\n",
    "some_data_prepared = full_pipeline.transform(some_data)\n",
    "\n",
    "print(\"Predictions:\", lin_reg.predict(some_data_prepared))"
   ]
  },
  {
   "cell_type": "markdown",
   "metadata": {},
   "source": [
    "Compare against the actual values:"
   ]
  },
  {
   "cell_type": "code",
   "execution_count": 116,
   "metadata": {},
   "outputs": [
    {
     "name": "stdout",
     "output_type": "stream",
     "text": [
      "Labels: [286600.0, 340600.0, 196900.0, 46300.0, 254500.0]\n"
     ]
    }
   ],
   "source": [
    "print(\"Labels:\", list(some_labels))"
   ]
  },
  {
   "cell_type": "code",
   "execution_count": 117,
   "metadata": {},
   "outputs": [
    {
     "data": {
      "text/plain": [
       "array([[-1.15604281,  0.77194962,  0.74333089, -0.49323393, -0.44543821,\n",
       "        -0.63621141, -0.42069842, -0.61493744, -0.31205452, -0.08649871,\n",
       "         0.15531753,  1.        ,  0.        ,  0.        ,  0.        ,\n",
       "         0.        ],\n",
       "       [-1.17602483,  0.6596948 , -1.1653172 , -0.90896655, -1.0369278 ,\n",
       "        -0.99833135, -1.02222705,  1.33645936,  0.21768338, -0.03353391,\n",
       "        -0.83628902,  1.        ,  0.        ,  0.        ,  0.        ,\n",
       "         0.        ],\n",
       "       [ 1.18684903, -1.34218285,  0.18664186, -0.31365989, -0.15334458,\n",
       "        -0.43363936, -0.0933178 , -0.5320456 , -0.46531516, -0.09240499,\n",
       "         0.4222004 ,  0.        ,  0.        ,  0.        ,  0.        ,\n",
       "         1.        ],\n",
       "       [-0.01706767,  0.31357576, -0.29052016, -0.36276217, -0.39675594,\n",
       "         0.03604096, -0.38343559, -1.04556555, -0.07966124,  0.08973561,\n",
       "        -0.19645314,  0.        ,  1.        ,  0.        ,  0.        ,\n",
       "         0.        ],\n",
       "       [ 0.49247384, -0.65929936, -0.92673619,  1.85619316,  2.41221109,\n",
       "         2.72415407,  2.57097492, -0.44143679, -0.35783383, -0.00419445,\n",
       "         0.2699277 ,  1.        ,  0.        ,  0.        ,  0.        ,\n",
       "         0.        ]])"
      ]
     },
     "execution_count": 117,
     "metadata": {},
     "output_type": "execute_result"
    }
   ],
   "source": [
    "some_data_prepared"
   ]
  },
  {
   "cell_type": "code",
   "execution_count": 118,
   "metadata": {},
   "outputs": [
    {
     "data": {
      "text/plain": [
       "68628.198198489234"
      ]
     },
     "execution_count": 118,
     "metadata": {},
     "output_type": "execute_result"
    }
   ],
   "source": [
    "from sklearn.metrics import mean_squared_error\n",
    "\n",
    "housing_predictions = lin_reg.predict(housing_prepared)\n",
    "lin_mse = mean_squared_error(housing_labels, housing_predictions)\n",
    "lin_rmse = np.sqrt(lin_mse)\n",
    "lin_rmse"
   ]
  },
  {
   "cell_type": "code",
   "execution_count": 119,
   "metadata": {},
   "outputs": [
    {
     "data": {
      "text/plain": [
       "49439.895990018973"
      ]
     },
     "execution_count": 119,
     "metadata": {},
     "output_type": "execute_result"
    }
   ],
   "source": [
    "from sklearn.metrics import mean_absolute_error\n",
    "\n",
    "lin_mae = mean_absolute_error(housing_labels, housing_predictions)\n",
    "lin_mae"
   ]
  },
  {
   "cell_type": "code",
   "execution_count": 120,
   "metadata": {},
   "outputs": [
    {
     "data": {
      "text/plain": [
       "DecisionTreeRegressor(criterion='mse', max_depth=None, max_features=None,\n",
       "           max_leaf_nodes=None, min_impurity_split=1e-07,\n",
       "           min_samples_leaf=1, min_samples_split=2,\n",
       "           min_weight_fraction_leaf=0.0, presort=False, random_state=42,\n",
       "           splitter='best')"
      ]
     },
     "execution_count": 120,
     "metadata": {},
     "output_type": "execute_result"
    }
   ],
   "source": [
    "from sklearn.tree import DecisionTreeRegressor\n",
    "\n",
    "tree_reg = DecisionTreeRegressor(random_state=42)\n",
    "tree_reg.fit(housing_prepared, housing_labels)"
   ]
  },
  {
   "cell_type": "code",
   "execution_count": 121,
   "metadata": {},
   "outputs": [
    {
     "data": {
      "text/plain": [
       "0.0"
      ]
     },
     "execution_count": 121,
     "metadata": {},
     "output_type": "execute_result"
    }
   ],
   "source": [
    "housing_predictions = tree_reg.predict(housing_prepared)\n",
    "tree_mse = mean_squared_error(housing_labels, housing_predictions)\n",
    "tree_rmse = np.sqrt(tree_mse)\n",
    "tree_rmse"
   ]
  },
  {
   "cell_type": "markdown",
   "metadata": {},
   "source": [
    "# Fine-tune your model"
   ]
  },
  {
   "cell_type": "code",
   "execution_count": 123,
   "metadata": {
    "collapsed": true
   },
   "outputs": [],
   "source": [
    "cross_val_score?"
   ]
  },
  {
   "cell_type": "code",
   "execution_count": 122,
   "metadata": {
    "collapsed": true
   },
   "outputs": [],
   "source": [
    "from sklearn.model_selection import cross_val_score\n",
    "\n",
    "scores = cross_val_score(tree_reg, housing_prepared, housing_labels,\n",
    "                         scoring=\"neg_mean_squared_error\", cv=10)\n",
    "tree_rmse_scores = np.sqrt(-scores)"
   ]
  },
  {
   "cell_type": "code",
   "execution_count": 124,
   "metadata": {},
   "outputs": [
    {
     "name": "stdout",
     "output_type": "stream",
     "text": [
      "[ -4.93253574e+09  -4.46604419e+09  -5.24814577e+09  -5.00719015e+09\n",
      "  -5.05884059e+09  -5.71253188e+09  -4.92377176e+09  -4.90775608e+09\n",
      "  -5.68071094e+09  -5.07262895e+09]\n"
     ]
    }
   ],
   "source": [
    "LinearR"
   ]
  },
  {
   "cell_type": "code",
   "execution_count": 126,
   "metadata": {},
   "outputs": [
    {
     "name": "stdout",
     "output_type": "stream",
     "text": [
      "Scores: [ 70232.0136482   66828.46839892  72444.08721003  70761.50186201\n",
      "  71125.52697653  75581.29319857  70169.59286164  70055.37863456\n",
      "  75370.49116773  71222.39081244]\n",
      "Mean: 71379.0744771\n",
      "Standard deviation: 2458.31882043\n"
     ]
    }
   ],
   "source": [
    "def display_scores(scores):\n",
    "    print(\"Scores:\", scores)\n",
    "    print(\"Mean:\", scores.mean())\n",
    "    print(\"Standard deviation:\", scores.std())\n",
    "\n",
    "display_scores(tree_rmse_scores)"
   ]
  },
  {
   "cell_type": "code",
   "execution_count": 127,
   "metadata": {},
   "outputs": [
    {
     "name": "stdout",
     "output_type": "stream",
     "text": [
      "Scores: [ 66782.73843989  66960.118071    70347.95244419  74739.57052552\n",
      "  68031.13388938  71193.84183426  64969.63056405  68281.61137997\n",
      "  71552.91566558  67665.10082067]\n",
      "Mean: 69052.4613635\n",
      "Standard deviation: 2731.6740018\n"
     ]
    }
   ],
   "source": [
    "lin_scores = cross_val_score(lin_reg, housing_prepared, housing_labels,\n",
    "                             scoring=\"neg_mean_squared_error\", cv=10)\n",
    "lin_rmse_scores = np.sqrt(-lin_scores)\n",
    "display_scores(lin_rmse_scores)"
   ]
  },
  {
   "cell_type": "code",
   "execution_count": 128,
   "metadata": {},
   "outputs": [
    {
     "data": {
      "text/plain": [
       "RandomForestRegressor(bootstrap=True, criterion='mse', max_depth=None,\n",
       "           max_features='auto', max_leaf_nodes=None,\n",
       "           min_impurity_split=1e-07, min_samples_leaf=1,\n",
       "           min_samples_split=2, min_weight_fraction_leaf=0.0,\n",
       "           n_estimators=10, n_jobs=1, oob_score=False, random_state=42,\n",
       "           verbose=0, warm_start=False)"
      ]
     },
     "execution_count": 128,
     "metadata": {},
     "output_type": "execute_result"
    }
   ],
   "source": [
    "from sklearn.ensemble import RandomForestRegressor\n",
    "\n",
    "forest_reg = RandomForestRegressor(random_state=42)\n",
    "forest_reg.fit(housing_prepared, housing_labels)"
   ]
  },
  {
   "cell_type": "code",
   "execution_count": 129,
   "metadata": {},
   "outputs": [
    {
     "data": {
      "text/plain": [
       "21941.911027380233"
      ]
     },
     "execution_count": 129,
     "metadata": {},
     "output_type": "execute_result"
    }
   ],
   "source": [
    "housing_predictions = forest_reg.predict(housing_prepared)\n",
    "forest_mse = mean_squared_error(housing_labels, housing_predictions)\n",
    "forest_rmse = np.sqrt(forest_mse)\n",
    "forest_rmse"
   ]
  },
  {
   "cell_type": "code",
   "execution_count": 130,
   "metadata": {},
   "outputs": [
    {
     "name": "stdout",
     "output_type": "stream",
     "text": [
      "Scores: [ 51650.94405471  48920.80645498  52979.16096752  54412.74042021\n",
      "  50861.29381163  56488.55699727  51866.90120786  49752.24599537\n",
      "  55399.50713191  53309.74548294]\n",
      "Mean: 52564.1902524\n",
      "Standard deviation: 2301.87380392\n"
     ]
    }
   ],
   "source": [
    "from sklearn.model_selection import cross_val_score\n",
    "\n",
    "forest_scores = cross_val_score(forest_reg, housing_prepared, housing_labels,\n",
    "                                scoring=\"neg_mean_squared_error\", cv=10)\n",
    "forest_rmse_scores = np.sqrt(-forest_scores)\n",
    "display_scores(forest_rmse_scores)"
   ]
  },
  {
   "cell_type": "code",
   "execution_count": 131,
   "metadata": {},
   "outputs": [
    {
     "data": {
      "text/plain": [
       "count       10.000000\n",
       "mean     69052.461363\n",
       "std       2879.437224\n",
       "min      64969.630564\n",
       "25%      67136.363758\n",
       "50%      68156.372635\n",
       "75%      70982.369487\n",
       "max      74739.570526\n",
       "dtype: float64"
      ]
     },
     "execution_count": 131,
     "metadata": {},
     "output_type": "execute_result"
    }
   ],
   "source": [
    "scores = cross_val_score(lin_reg, housing_prepared, housing_labels, scoring=\"neg_mean_squared_error\", cv=10)\n",
    "pd.Series(np.sqrt(-scores)).describe()"
   ]
  },
  {
   "cell_type": "code",
   "execution_count": 86,
   "metadata": {},
   "outputs": [
    {
     "data": {
      "text/plain": [
       "111094.6308539982"
      ]
     },
     "execution_count": 86,
     "metadata": {},
     "output_type": "execute_result"
    }
   ],
   "source": [
    "from sklearn.svm import SVR\n",
    "\n",
    "svm_reg = SVR(kernel=\"linear\")\n",
    "svm_reg.fit(housing_prepared, housing_labels)\n",
    "housing_predictions = svm_reg.predict(housing_prepared)\n",
    "svm_mse = mean_squared_error(housing_labels, housing_predictions)\n",
    "svm_rmse = np.sqrt(svm_mse)\n",
    "svm_rmse"
   ]
  },
  {
   "cell_type": "code",
   "execution_count": 132,
   "metadata": {},
   "outputs": [
    {
     "data": {
      "text/plain": [
       "GridSearchCV(cv=5, error_score='raise',\n",
       "       estimator=RandomForestRegressor(bootstrap=True, criterion='mse', max_depth=None,\n",
       "           max_features='auto', max_leaf_nodes=None,\n",
       "           min_impurity_split=1e-07, min_samples_leaf=1,\n",
       "           min_samples_split=2, min_weight_fraction_leaf=0.0,\n",
       "           n_estimators=10, n_jobs=1, oob_score=False, random_state=42,\n",
       "           verbose=0, warm_start=False),\n",
       "       fit_params={}, iid=True, n_jobs=1,\n",
       "       param_grid=[{'n_estimators': [3, 10, 30], 'max_features': [2, 4, 6, 8]}, {'bootstrap': [False], 'n_estimators': [3, 10], 'max_features': [2, 3, 4]}],\n",
       "       pre_dispatch='2*n_jobs', refit=True, return_train_score=True,\n",
       "       scoring='neg_mean_squared_error', verbose=0)"
      ]
     },
     "execution_count": 132,
     "metadata": {},
     "output_type": "execute_result"
    }
   ],
   "source": [
    "from sklearn.model_selection import GridSearchCV\n",
    "\n",
    "param_grid = [\n",
    "    # try 12 (3×4) combinations of hyperparameters\n",
    "    {'n_estimators': [3, 10, 30], 'max_features': [2, 4, 6, 8]},\n",
    "    # then try 6 (2×3) combinations with bootstrap set as False\n",
    "    {'bootstrap': [False], 'n_estimators': [3, 10], 'max_features': [2, 3, 4]},\n",
    "  ]\n",
    "\n",
    "forest_reg = RandomForestRegressor(random_state=42)\n",
    "# train across 5 folds, that's a total of (12+6)*5=90 rounds of training \n",
    "grid_search = GridSearchCV(forest_reg, param_grid, cv=5,\n",
    "                           scoring='neg_mean_squared_error')\n",
    "grid_search.fit(housing_prepared, housing_labels)"
   ]
  },
  {
   "cell_type": "markdown",
   "metadata": {},
   "source": [
    "The best hyperparameter combination found:"
   ]
  },
  {
   "cell_type": "code",
   "execution_count": 133,
   "metadata": {},
   "outputs": [
    {
     "data": {
      "text/plain": [
       "{'max_features': 8, 'n_estimators': 30}"
      ]
     },
     "execution_count": 133,
     "metadata": {},
     "output_type": "execute_result"
    }
   ],
   "source": [
    "grid_search.best_params_"
   ]
  },
  {
   "cell_type": "code",
   "execution_count": 134,
   "metadata": {},
   "outputs": [
    {
     "data": {
      "text/plain": [
       "RandomForestRegressor(bootstrap=True, criterion='mse', max_depth=None,\n",
       "           max_features=8, max_leaf_nodes=None, min_impurity_split=1e-07,\n",
       "           min_samples_leaf=1, min_samples_split=2,\n",
       "           min_weight_fraction_leaf=0.0, n_estimators=30, n_jobs=1,\n",
       "           oob_score=False, random_state=42, verbose=0, warm_start=False)"
      ]
     },
     "execution_count": 134,
     "metadata": {},
     "output_type": "execute_result"
    }
   ],
   "source": [
    "grid_search.best_estimator_"
   ]
  },
  {
   "cell_type": "markdown",
   "metadata": {},
   "source": [
    "Let's look at the score of each hyperparameter combination tested during the grid search:"
   ]
  },
  {
   "cell_type": "code",
   "execution_count": 140,
   "metadata": {},
   "outputs": [
    {
     "data": {
      "text/plain": [
       "dict_keys(['split0_test_score', 'split1_test_score', 'split2_test_score', 'split3_test_score', 'split4_test_score', 'mean_test_score', 'std_test_score', 'rank_test_score', 'split0_train_score', 'split1_train_score', 'split2_train_score', 'split3_train_score', 'split4_train_score', 'mean_train_score', 'std_train_score', 'mean_fit_time', 'std_fit_time', 'mean_score_time', 'std_score_time', 'param_max_features', 'param_n_estimators', 'param_bootstrap', 'params'])"
      ]
     },
     "execution_count": 140,
     "metadata": {},
     "output_type": "execute_result"
    }
   ],
   "source": [
    "cvres.keys()"
   ]
  },
  {
   "cell_type": "code",
   "execution_count": 141,
   "metadata": {},
   "outputs": [
    {
     "name": "stdout",
     "output_type": "stream",
     "text": [
      "63825.0479302 10773.5494371 {'max_features': 2, 'n_estimators': 3}\n",
      "55643.8429091 11392.1873564 {'max_features': 2, 'n_estimators': 10}\n",
      "53380.6566859 12623.9806065 {'max_features': 2, 'n_estimators': 30}\n",
      "60959.1388585 13000.1105598 {'max_features': 4, 'n_estimators': 3}\n",
      "52740.5841667 11307.0704473 {'max_features': 4, 'n_estimators': 10}\n",
      "50374.1421461 10999.7030522 {'max_features': 4, 'n_estimators': 30}\n",
      "58661.2866462 13726.7206754 {'max_features': 6, 'n_estimators': 3}\n",
      "52009.9739798 12103.567305 {'max_features': 6, 'n_estimators': 10}\n",
      "50154.1177737 11329.5185722 {'max_features': 6, 'n_estimators': 30}\n",
      "57865.3616801 11075.5701016 {'max_features': 8, 'n_estimators': 3}\n",
      "51730.0755087 11803.6128258 {'max_features': 8, 'n_estimators': 10}\n",
      "49694.8514333 10437.4105116 {'max_features': 8, 'n_estimators': 30}\n",
      "62874.4073931 13778.666248 {'bootstrap': False, 'max_features': 2, 'n_estimators': 3}\n",
      "54561.9398157 12559.5161223 {'bootstrap': False, 'max_features': 2, 'n_estimators': 10}\n",
      "59416.6463145 8678.88066143 {'bootstrap': False, 'max_features': 3, 'n_estimators': 3}\n",
      "52660.245911 8183.68866043 {'bootstrap': False, 'max_features': 3, 'n_estimators': 10}\n",
      "57490.0168279 13666.9898451 {'bootstrap': False, 'max_features': 4, 'n_estimators': 3}\n",
      "51093.9059428 10849.7974765 {'bootstrap': False, 'max_features': 4, 'n_estimators': 10}\n"
     ]
    }
   ],
   "source": [
    "cvres = grid_search.cv_results_\n",
    "for mean_score,std_score, params in zip(cvres[\"mean_test_score\"], cvres[\"std_test_score\"], cvres[\"params\"]):\n",
    "    print(np.sqrt(-mean_score),np.sqrt(std_score), params)"
   ]
  },
  {
   "cell_type": "code",
   "execution_count": 91,
   "metadata": {},
   "outputs": [
    {
     "data": {
      "text/html": [
       "<div>\n",
       "<table border=\"1\" class=\"dataframe\">\n",
       "  <thead>\n",
       "    <tr style=\"text-align: right;\">\n",
       "      <th></th>\n",
       "      <th>mean_fit_time</th>\n",
       "      <th>mean_score_time</th>\n",
       "      <th>mean_test_score</th>\n",
       "      <th>mean_train_score</th>\n",
       "      <th>param_bootstrap</th>\n",
       "      <th>param_max_features</th>\n",
       "      <th>param_n_estimators</th>\n",
       "      <th>params</th>\n",
       "      <th>rank_test_score</th>\n",
       "      <th>split0_test_score</th>\n",
       "      <th>...</th>\n",
       "      <th>split2_test_score</th>\n",
       "      <th>split2_train_score</th>\n",
       "      <th>split3_test_score</th>\n",
       "      <th>split3_train_score</th>\n",
       "      <th>split4_test_score</th>\n",
       "      <th>split4_train_score</th>\n",
       "      <th>std_fit_time</th>\n",
       "      <th>std_score_time</th>\n",
       "      <th>std_test_score</th>\n",
       "      <th>std_train_score</th>\n",
       "    </tr>\n",
       "  </thead>\n",
       "  <tbody>\n",
       "    <tr>\n",
       "      <th>0</th>\n",
       "      <td>0.055782</td>\n",
       "      <td>0.003593</td>\n",
       "      <td>-4.073637e+09</td>\n",
       "      <td>-1.107354e+09</td>\n",
       "      <td>NaN</td>\n",
       "      <td>2</td>\n",
       "      <td>3</td>\n",
       "      <td>{'max_features': 2, 'n_estimators': 3}</td>\n",
       "      <td>18</td>\n",
       "      <td>-3.963584e+09</td>\n",
       "      <td>...</td>\n",
       "      <td>-4.194135e+09</td>\n",
       "      <td>-1.116843e+09</td>\n",
       "      <td>-3.906732e+09</td>\n",
       "      <td>-1.112813e+09</td>\n",
       "      <td>-4.169669e+09</td>\n",
       "      <td>-1.129842e+09</td>\n",
       "      <td>0.000631</td>\n",
       "      <td>0.000542</td>\n",
       "      <td>1.160694e+08</td>\n",
       "      <td>1.927217e+07</td>\n",
       "    </tr>\n",
       "    <tr>\n",
       "      <th>1</th>\n",
       "      <td>0.172177</td>\n",
       "      <td>0.008357</td>\n",
       "      <td>-3.096237e+09</td>\n",
       "      <td>-5.813707e+08</td>\n",
       "      <td>NaN</td>\n",
       "      <td>2</td>\n",
       "      <td>10</td>\n",
       "      <td>{'max_features': 2, 'n_estimators': 10}</td>\n",
       "      <td>11</td>\n",
       "      <td>-3.070368e+09</td>\n",
       "      <td>...</td>\n",
       "      <td>-3.124982e+09</td>\n",
       "      <td>-5.780873e+08</td>\n",
       "      <td>-2.865117e+09</td>\n",
       "      <td>-5.713421e+08</td>\n",
       "      <td>-3.169914e+09</td>\n",
       "      <td>-5.797944e+08</td>\n",
       "      <td>0.002452</td>\n",
       "      <td>0.000872</td>\n",
       "      <td>1.297819e+08</td>\n",
       "      <td>6.782553e+06</td>\n",
       "    </tr>\n",
       "    <tr>\n",
       "      <th>2</th>\n",
       "      <td>0.549370</td>\n",
       "      <td>0.024622</td>\n",
       "      <td>-2.849495e+09</td>\n",
       "      <td>-4.394633e+08</td>\n",
       "      <td>NaN</td>\n",
       "      <td>2</td>\n",
       "      <td>30</td>\n",
       "      <td>{'max_features': 2, 'n_estimators': 30}</td>\n",
       "      <td>9</td>\n",
       "      <td>-2.697829e+09</td>\n",
       "      <td>...</td>\n",
       "      <td>-2.943808e+09</td>\n",
       "      <td>-4.374429e+08</td>\n",
       "      <td>-2.619893e+09</td>\n",
       "      <td>-4.374715e+08</td>\n",
       "      <td>-2.968460e+09</td>\n",
       "      <td>-4.451903e+08</td>\n",
       "      <td>0.031675</td>\n",
       "      <td>0.001817</td>\n",
       "      <td>1.593649e+08</td>\n",
       "      <td>2.961109e+06</td>\n",
       "    </tr>\n",
       "    <tr>\n",
       "      <th>3</th>\n",
       "      <td>0.108659</td>\n",
       "      <td>0.003603</td>\n",
       "      <td>-3.716017e+09</td>\n",
       "      <td>-9.850011e+08</td>\n",
       "      <td>NaN</td>\n",
       "      <td>4</td>\n",
       "      <td>3</td>\n",
       "      <td>{'max_features': 4, 'n_estimators': 3}</td>\n",
       "      <td>16</td>\n",
       "      <td>-3.729600e+09</td>\n",
       "      <td>...</td>\n",
       "      <td>-3.736527e+09</td>\n",
       "      <td>-9.172986e+08</td>\n",
       "      <td>-3.404974e+09</td>\n",
       "      <td>-1.035901e+09</td>\n",
       "      <td>-3.914186e+09</td>\n",
       "      <td>-9.711998e+08</td>\n",
       "      <td>0.005413</td>\n",
       "      <td>0.000532</td>\n",
       "      <td>1.690029e+08</td>\n",
       "      <td>4.047487e+07</td>\n",
       "    </tr>\n",
       "    <tr>\n",
       "      <th>4</th>\n",
       "      <td>0.345844</td>\n",
       "      <td>0.010100</td>\n",
       "      <td>-2.781569e+09</td>\n",
       "      <td>-5.160154e+08</td>\n",
       "      <td>NaN</td>\n",
       "      <td>4</td>\n",
       "      <td>10</td>\n",
       "      <td>{'max_features': 4, 'n_estimators': 10}</td>\n",
       "      <td>8</td>\n",
       "      <td>-2.667093e+09</td>\n",
       "      <td>...</td>\n",
       "      <td>-2.891599e+09</td>\n",
       "      <td>-4.960301e+08</td>\n",
       "      <td>-2.613393e+09</td>\n",
       "      <td>-5.422542e+08</td>\n",
       "      <td>-2.949550e+09</td>\n",
       "      <td>-5.158794e+08</td>\n",
       "      <td>0.005767</td>\n",
       "      <td>0.001052</td>\n",
       "      <td>1.278498e+08</td>\n",
       "      <td>1.498960e+07</td>\n",
       "    </tr>\n",
       "    <tr>\n",
       "      <th>5</th>\n",
       "      <td>0.890049</td>\n",
       "      <td>0.025157</td>\n",
       "      <td>-2.537554e+09</td>\n",
       "      <td>-3.878685e+08</td>\n",
       "      <td>NaN</td>\n",
       "      <td>4</td>\n",
       "      <td>30</td>\n",
       "      <td>{'max_features': 4, 'n_estimators': 30}</td>\n",
       "      <td>3</td>\n",
       "      <td>-2.387199e+09</td>\n",
       "      <td>...</td>\n",
       "      <td>-2.663178e+09</td>\n",
       "      <td>-3.789712e+08</td>\n",
       "      <td>-2.397951e+09</td>\n",
       "      <td>-4.036920e+08</td>\n",
       "      <td>-2.649850e+09</td>\n",
       "      <td>-3.846171e+08</td>\n",
       "      <td>0.040411</td>\n",
       "      <td>0.001709</td>\n",
       "      <td>1.209935e+08</td>\n",
       "      <td>8.424973e+06</td>\n",
       "    </tr>\n",
       "    <tr>\n",
       "      <th>6</th>\n",
       "      <td>0.134878</td>\n",
       "      <td>0.003163</td>\n",
       "      <td>-3.441147e+09</td>\n",
       "      <td>-9.030212e+08</td>\n",
       "      <td>NaN</td>\n",
       "      <td>6</td>\n",
       "      <td>3</td>\n",
       "      <td>{'max_features': 6, 'n_estimators': 3}</td>\n",
       "      <td>14</td>\n",
       "      <td>-3.119576e+09</td>\n",
       "      <td>...</td>\n",
       "      <td>-3.587747e+09</td>\n",
       "      <td>-9.360639e+08</td>\n",
       "      <td>-3.331544e+09</td>\n",
       "      <td>-9.025026e+08</td>\n",
       "      <td>-3.577062e+09</td>\n",
       "      <td>-8.612945e+08</td>\n",
       "      <td>0.003447</td>\n",
       "      <td>0.000230</td>\n",
       "      <td>1.884229e+08</td>\n",
       "      <td>2.639683e+07</td>\n",
       "    </tr>\n",
       "    <tr>\n",
       "      <th>7</th>\n",
       "      <td>0.441237</td>\n",
       "      <td>0.009476</td>\n",
       "      <td>-2.705037e+09</td>\n",
       "      <td>-5.014210e+08</td>\n",
       "      <td>NaN</td>\n",
       "      <td>6</td>\n",
       "      <td>10</td>\n",
       "      <td>{'max_features': 6, 'n_estimators': 10}</td>\n",
       "      <td>6</td>\n",
       "      <td>-2.553481e+09</td>\n",
       "      <td>...</td>\n",
       "      <td>-2.762945e+09</td>\n",
       "      <td>-4.996537e+08</td>\n",
       "      <td>-2.519522e+09</td>\n",
       "      <td>-4.989516e+08</td>\n",
       "      <td>-2.906270e+09</td>\n",
       "      <td>-5.063617e+08</td>\n",
       "      <td>0.026262</td>\n",
       "      <td>0.001327</td>\n",
       "      <td>1.464963e+08</td>\n",
       "      <td>3.357661e+06</td>\n",
       "    </tr>\n",
       "    <tr>\n",
       "      <th>8</th>\n",
       "      <td>1.293729</td>\n",
       "      <td>0.025095</td>\n",
       "      <td>-2.515436e+09</td>\n",
       "      <td>-3.840197e+08</td>\n",
       "      <td>NaN</td>\n",
       "      <td>6</td>\n",
       "      <td>30</td>\n",
       "      <td>{'max_features': 6, 'n_estimators': 30}</td>\n",
       "      <td>2</td>\n",
       "      <td>-2.371924e+09</td>\n",
       "      <td>...</td>\n",
       "      <td>-2.607962e+09</td>\n",
       "      <td>-3.805596e+08</td>\n",
       "      <td>-2.351220e+09</td>\n",
       "      <td>-3.856159e+08</td>\n",
       "      <td>-2.662399e+09</td>\n",
       "      <td>-3.904866e+08</td>\n",
       "      <td>0.043359</td>\n",
       "      <td>0.000991</td>\n",
       "      <td>1.283580e+08</td>\n",
       "      <td>3.796810e+06</td>\n",
       "    </tr>\n",
       "    <tr>\n",
       "      <th>9</th>\n",
       "      <td>0.154177</td>\n",
       "      <td>0.003283</td>\n",
       "      <td>-3.348400e+09</td>\n",
       "      <td>-8.884890e+08</td>\n",
       "      <td>NaN</td>\n",
       "      <td>8</td>\n",
       "      <td>3</td>\n",
       "      <td>{'max_features': 8, 'n_estimators': 3}</td>\n",
       "      <td>13</td>\n",
       "      <td>-3.351347e+09</td>\n",
       "      <td>...</td>\n",
       "      <td>-3.396841e+09</td>\n",
       "      <td>-8.596460e+08</td>\n",
       "      <td>-3.131753e+09</td>\n",
       "      <td>-8.893698e+08</td>\n",
       "      <td>-3.509451e+09</td>\n",
       "      <td>-9.146734e+08</td>\n",
       "      <td>0.002721</td>\n",
       "      <td>0.000364</td>\n",
       "      <td>1.226683e+08</td>\n",
       "      <td>2.730057e+07</td>\n",
       "    </tr>\n",
       "    <tr>\n",
       "      <th>10</th>\n",
       "      <td>0.509834</td>\n",
       "      <td>0.008054</td>\n",
       "      <td>-2.676001e+09</td>\n",
       "      <td>-4.923247e+08</td>\n",
       "      <td>NaN</td>\n",
       "      <td>8</td>\n",
       "      <td>10</td>\n",
       "      <td>{'max_features': 8, 'n_estimators': 10}</td>\n",
       "      <td>5</td>\n",
       "      <td>-2.572358e+09</td>\n",
       "      <td>...</td>\n",
       "      <td>-2.844608e+09</td>\n",
       "      <td>-4.730979e+08</td>\n",
       "      <td>-2.462797e+09</td>\n",
       "      <td>-5.154156e+08</td>\n",
       "      <td>-2.777049e+09</td>\n",
       "      <td>-4.979127e+08</td>\n",
       "      <td>0.006725</td>\n",
       "      <td>0.000394</td>\n",
       "      <td>1.393253e+08</td>\n",
       "      <td>1.446900e+07</td>\n",
       "    </tr>\n",
       "    <tr>\n",
       "      <th>11</th>\n",
       "      <td>1.706564</td>\n",
       "      <td>0.024939</td>\n",
       "      <td>-2.469578e+09</td>\n",
       "      <td>-3.809175e+08</td>\n",
       "      <td>NaN</td>\n",
       "      <td>8</td>\n",
       "      <td>30</td>\n",
       "      <td>{'max_features': 8, 'n_estimators': 30}</td>\n",
       "      <td>1</td>\n",
       "      <td>-2.358884e+09</td>\n",
       "      <td>...</td>\n",
       "      <td>-2.591134e+09</td>\n",
       "      <td>-3.772512e+08</td>\n",
       "      <td>-2.319816e+09</td>\n",
       "      <td>-3.881153e+08</td>\n",
       "      <td>-2.528200e+09</td>\n",
       "      <td>-3.807496e+08</td>\n",
       "      <td>0.037252</td>\n",
       "      <td>0.000853</td>\n",
       "      <td>1.089395e+08</td>\n",
       "      <td>4.853344e+06</td>\n",
       "    </tr>\n",
       "    <tr>\n",
       "      <th>12</th>\n",
       "      <td>0.082789</td>\n",
       "      <td>0.003475</td>\n",
       "      <td>-3.953191e+09</td>\n",
       "      <td>0.000000e+00</td>\n",
       "      <td>False</td>\n",
       "      <td>2</td>\n",
       "      <td>3</td>\n",
       "      <td>{'bootstrap': False, 'max_features': 2, 'n_est...</td>\n",
       "      <td>17</td>\n",
       "      <td>-3.792367e+09</td>\n",
       "      <td>...</td>\n",
       "      <td>-4.050371e+09</td>\n",
       "      <td>-0.000000e+00</td>\n",
       "      <td>-3.668520e+09</td>\n",
       "      <td>-0.000000e+00</td>\n",
       "      <td>-4.087237e+09</td>\n",
       "      <td>-0.000000e+00</td>\n",
       "      <td>0.001605</td>\n",
       "      <td>0.000376</td>\n",
       "      <td>1.898516e+08</td>\n",
       "      <td>0.000000e+00</td>\n",
       "    </tr>\n",
       "    <tr>\n",
       "      <th>13</th>\n",
       "      <td>0.268172</td>\n",
       "      <td>0.009459</td>\n",
       "      <td>-2.977005e+09</td>\n",
       "      <td>0.000000e+00</td>\n",
       "      <td>False</td>\n",
       "      <td>2</td>\n",
       "      <td>10</td>\n",
       "      <td>{'bootstrap': False, 'max_features': 2, 'n_est...</td>\n",
       "      <td>10</td>\n",
       "      <td>-2.780448e+09</td>\n",
       "      <td>...</td>\n",
       "      <td>-3.125519e+09</td>\n",
       "      <td>-0.000000e+00</td>\n",
       "      <td>-2.788623e+09</td>\n",
       "      <td>-0.000000e+00</td>\n",
       "      <td>-3.083440e+09</td>\n",
       "      <td>-0.000000e+00</td>\n",
       "      <td>0.001888</td>\n",
       "      <td>0.000476</td>\n",
       "      <td>1.577414e+08</td>\n",
       "      <td>0.000000e+00</td>\n",
       "    </tr>\n",
       "    <tr>\n",
       "      <th>14</th>\n",
       "      <td>0.111243</td>\n",
       "      <td>0.003342</td>\n",
       "      <td>-3.530338e+09</td>\n",
       "      <td>0.000000e+00</td>\n",
       "      <td>False</td>\n",
       "      <td>3</td>\n",
       "      <td>3</td>\n",
       "      <td>{'bootstrap': False, 'max_features': 3, 'n_est...</td>\n",
       "      <td>15</td>\n",
       "      <td>-3.604830e+09</td>\n",
       "      <td>...</td>\n",
       "      <td>-3.552984e+09</td>\n",
       "      <td>-0.000000e+00</td>\n",
       "      <td>-3.610963e+09</td>\n",
       "      <td>-0.000000e+00</td>\n",
       "      <td>-3.443133e+09</td>\n",
       "      <td>-0.000000e+00</td>\n",
       "      <td>0.002322</td>\n",
       "      <td>0.000319</td>\n",
       "      <td>7.532297e+07</td>\n",
       "      <td>0.000000e+00</td>\n",
       "    </tr>\n",
       "    <tr>\n",
       "      <th>15</th>\n",
       "      <td>0.378554</td>\n",
       "      <td>0.010418</td>\n",
       "      <td>-2.773101e+09</td>\n",
       "      <td>0.000000e+00</td>\n",
       "      <td>False</td>\n",
       "      <td>3</td>\n",
       "      <td>10</td>\n",
       "      <td>{'bootstrap': False, 'max_features': 3, 'n_est...</td>\n",
       "      <td>7</td>\n",
       "      <td>-2.722794e+09</td>\n",
       "      <td>...</td>\n",
       "      <td>-2.831963e+09</td>\n",
       "      <td>-0.000000e+00</td>\n",
       "      <td>-2.672258e+09</td>\n",
       "      <td>-0.000000e+00</td>\n",
       "      <td>-2.787588e+09</td>\n",
       "      <td>-0.000000e+00</td>\n",
       "      <td>0.018147</td>\n",
       "      <td>0.001086</td>\n",
       "      <td>6.697276e+07</td>\n",
       "      <td>0.000000e+00</td>\n",
       "    </tr>\n",
       "    <tr>\n",
       "      <th>16</th>\n",
       "      <td>0.156352</td>\n",
       "      <td>0.003608</td>\n",
       "      <td>-3.305102e+09</td>\n",
       "      <td>0.000000e+00</td>\n",
       "      <td>False</td>\n",
       "      <td>4</td>\n",
       "      <td>3</td>\n",
       "      <td>{'bootstrap': False, 'max_features': 4, 'n_est...</td>\n",
       "      <td>12</td>\n",
       "      <td>-3.143457e+09</td>\n",
       "      <td>...</td>\n",
       "      <td>-3.440323e+09</td>\n",
       "      <td>-0.000000e+00</td>\n",
       "      <td>-3.047980e+09</td>\n",
       "      <td>-0.000000e+00</td>\n",
       "      <td>-3.337950e+09</td>\n",
       "      <td>-0.000000e+00</td>\n",
       "      <td>0.002871</td>\n",
       "      <td>0.000310</td>\n",
       "      <td>1.867866e+08</td>\n",
       "      <td>0.000000e+00</td>\n",
       "    </tr>\n",
       "    <tr>\n",
       "      <th>17</th>\n",
       "      <td>0.496684</td>\n",
       "      <td>0.009928</td>\n",
       "      <td>-2.610587e+09</td>\n",
       "      <td>0.000000e+00</td>\n",
       "      <td>False</td>\n",
       "      <td>4</td>\n",
       "      <td>10</td>\n",
       "      <td>{'bootstrap': False, 'max_features': 4, 'n_est...</td>\n",
       "      <td>4</td>\n",
       "      <td>-2.531436e+09</td>\n",
       "      <td>...</td>\n",
       "      <td>-2.606596e+09</td>\n",
       "      <td>-0.000000e+00</td>\n",
       "      <td>-2.437626e+09</td>\n",
       "      <td>-0.000000e+00</td>\n",
       "      <td>-2.726341e+09</td>\n",
       "      <td>-0.000000e+00</td>\n",
       "      <td>0.020199</td>\n",
       "      <td>0.000613</td>\n",
       "      <td>1.177181e+08</td>\n",
       "      <td>0.000000e+00</td>\n",
       "    </tr>\n",
       "  </tbody>\n",
       "</table>\n",
       "<p>18 rows × 23 columns</p>\n",
       "</div>"
      ],
      "text/plain": [
       "    mean_fit_time  mean_score_time  mean_test_score  mean_train_score  \\\n",
       "0        0.055782         0.003593    -4.073637e+09     -1.107354e+09   \n",
       "1        0.172177         0.008357    -3.096237e+09     -5.813707e+08   \n",
       "2        0.549370         0.024622    -2.849495e+09     -4.394633e+08   \n",
       "3        0.108659         0.003603    -3.716017e+09     -9.850011e+08   \n",
       "4        0.345844         0.010100    -2.781569e+09     -5.160154e+08   \n",
       "5        0.890049         0.025157    -2.537554e+09     -3.878685e+08   \n",
       "6        0.134878         0.003163    -3.441147e+09     -9.030212e+08   \n",
       "7        0.441237         0.009476    -2.705037e+09     -5.014210e+08   \n",
       "8        1.293729         0.025095    -2.515436e+09     -3.840197e+08   \n",
       "9        0.154177         0.003283    -3.348400e+09     -8.884890e+08   \n",
       "10       0.509834         0.008054    -2.676001e+09     -4.923247e+08   \n",
       "11       1.706564         0.024939    -2.469578e+09     -3.809175e+08   \n",
       "12       0.082789         0.003475    -3.953191e+09      0.000000e+00   \n",
       "13       0.268172         0.009459    -2.977005e+09      0.000000e+00   \n",
       "14       0.111243         0.003342    -3.530338e+09      0.000000e+00   \n",
       "15       0.378554         0.010418    -2.773101e+09      0.000000e+00   \n",
       "16       0.156352         0.003608    -3.305102e+09      0.000000e+00   \n",
       "17       0.496684         0.009928    -2.610587e+09      0.000000e+00   \n",
       "\n",
       "   param_bootstrap param_max_features param_n_estimators  \\\n",
       "0              NaN                  2                  3   \n",
       "1              NaN                  2                 10   \n",
       "2              NaN                  2                 30   \n",
       "3              NaN                  4                  3   \n",
       "4              NaN                  4                 10   \n",
       "5              NaN                  4                 30   \n",
       "6              NaN                  6                  3   \n",
       "7              NaN                  6                 10   \n",
       "8              NaN                  6                 30   \n",
       "9              NaN                  8                  3   \n",
       "10             NaN                  8                 10   \n",
       "11             NaN                  8                 30   \n",
       "12           False                  2                  3   \n",
       "13           False                  2                 10   \n",
       "14           False                  3                  3   \n",
       "15           False                  3                 10   \n",
       "16           False                  4                  3   \n",
       "17           False                  4                 10   \n",
       "\n",
       "                                               params  rank_test_score  \\\n",
       "0              {'max_features': 2, 'n_estimators': 3}               18   \n",
       "1             {'max_features': 2, 'n_estimators': 10}               11   \n",
       "2             {'max_features': 2, 'n_estimators': 30}                9   \n",
       "3              {'max_features': 4, 'n_estimators': 3}               16   \n",
       "4             {'max_features': 4, 'n_estimators': 10}                8   \n",
       "5             {'max_features': 4, 'n_estimators': 30}                3   \n",
       "6              {'max_features': 6, 'n_estimators': 3}               14   \n",
       "7             {'max_features': 6, 'n_estimators': 10}                6   \n",
       "8             {'max_features': 6, 'n_estimators': 30}                2   \n",
       "9              {'max_features': 8, 'n_estimators': 3}               13   \n",
       "10            {'max_features': 8, 'n_estimators': 10}                5   \n",
       "11            {'max_features': 8, 'n_estimators': 30}                1   \n",
       "12  {'bootstrap': False, 'max_features': 2, 'n_est...               17   \n",
       "13  {'bootstrap': False, 'max_features': 2, 'n_est...               10   \n",
       "14  {'bootstrap': False, 'max_features': 3, 'n_est...               15   \n",
       "15  {'bootstrap': False, 'max_features': 3, 'n_est...                7   \n",
       "16  {'bootstrap': False, 'max_features': 4, 'n_est...               12   \n",
       "17  {'bootstrap': False, 'max_features': 4, 'n_est...                4   \n",
       "\n",
       "    split0_test_score       ...         split2_test_score  split2_train_score  \\\n",
       "0       -3.963584e+09       ...             -4.194135e+09       -1.116843e+09   \n",
       "1       -3.070368e+09       ...             -3.124982e+09       -5.780873e+08   \n",
       "2       -2.697829e+09       ...             -2.943808e+09       -4.374429e+08   \n",
       "3       -3.729600e+09       ...             -3.736527e+09       -9.172986e+08   \n",
       "4       -2.667093e+09       ...             -2.891599e+09       -4.960301e+08   \n",
       "5       -2.387199e+09       ...             -2.663178e+09       -3.789712e+08   \n",
       "6       -3.119576e+09       ...             -3.587747e+09       -9.360639e+08   \n",
       "7       -2.553481e+09       ...             -2.762945e+09       -4.996537e+08   \n",
       "8       -2.371924e+09       ...             -2.607962e+09       -3.805596e+08   \n",
       "9       -3.351347e+09       ...             -3.396841e+09       -8.596460e+08   \n",
       "10      -2.572358e+09       ...             -2.844608e+09       -4.730979e+08   \n",
       "11      -2.358884e+09       ...             -2.591134e+09       -3.772512e+08   \n",
       "12      -3.792367e+09       ...             -4.050371e+09       -0.000000e+00   \n",
       "13      -2.780448e+09       ...             -3.125519e+09       -0.000000e+00   \n",
       "14      -3.604830e+09       ...             -3.552984e+09       -0.000000e+00   \n",
       "15      -2.722794e+09       ...             -2.831963e+09       -0.000000e+00   \n",
       "16      -3.143457e+09       ...             -3.440323e+09       -0.000000e+00   \n",
       "17      -2.531436e+09       ...             -2.606596e+09       -0.000000e+00   \n",
       "\n",
       "    split3_test_score  split3_train_score  split4_test_score  \\\n",
       "0       -3.906732e+09       -1.112813e+09      -4.169669e+09   \n",
       "1       -2.865117e+09       -5.713421e+08      -3.169914e+09   \n",
       "2       -2.619893e+09       -4.374715e+08      -2.968460e+09   \n",
       "3       -3.404974e+09       -1.035901e+09      -3.914186e+09   \n",
       "4       -2.613393e+09       -5.422542e+08      -2.949550e+09   \n",
       "5       -2.397951e+09       -4.036920e+08      -2.649850e+09   \n",
       "6       -3.331544e+09       -9.025026e+08      -3.577062e+09   \n",
       "7       -2.519522e+09       -4.989516e+08      -2.906270e+09   \n",
       "8       -2.351220e+09       -3.856159e+08      -2.662399e+09   \n",
       "9       -3.131753e+09       -8.893698e+08      -3.509451e+09   \n",
       "10      -2.462797e+09       -5.154156e+08      -2.777049e+09   \n",
       "11      -2.319816e+09       -3.881153e+08      -2.528200e+09   \n",
       "12      -3.668520e+09       -0.000000e+00      -4.087237e+09   \n",
       "13      -2.788623e+09       -0.000000e+00      -3.083440e+09   \n",
       "14      -3.610963e+09       -0.000000e+00      -3.443133e+09   \n",
       "15      -2.672258e+09       -0.000000e+00      -2.787588e+09   \n",
       "16      -3.047980e+09       -0.000000e+00      -3.337950e+09   \n",
       "17      -2.437626e+09       -0.000000e+00      -2.726341e+09   \n",
       "\n",
       "    split4_train_score  std_fit_time  std_score_time  std_test_score  \\\n",
       "0        -1.129842e+09      0.000631        0.000542    1.160694e+08   \n",
       "1        -5.797944e+08      0.002452        0.000872    1.297819e+08   \n",
       "2        -4.451903e+08      0.031675        0.001817    1.593649e+08   \n",
       "3        -9.711998e+08      0.005413        0.000532    1.690029e+08   \n",
       "4        -5.158794e+08      0.005767        0.001052    1.278498e+08   \n",
       "5        -3.846171e+08      0.040411        0.001709    1.209935e+08   \n",
       "6        -8.612945e+08      0.003447        0.000230    1.884229e+08   \n",
       "7        -5.063617e+08      0.026262        0.001327    1.464963e+08   \n",
       "8        -3.904866e+08      0.043359        0.000991    1.283580e+08   \n",
       "9        -9.146734e+08      0.002721        0.000364    1.226683e+08   \n",
       "10       -4.979127e+08      0.006725        0.000394    1.393253e+08   \n",
       "11       -3.807496e+08      0.037252        0.000853    1.089395e+08   \n",
       "12       -0.000000e+00      0.001605        0.000376    1.898516e+08   \n",
       "13       -0.000000e+00      0.001888        0.000476    1.577414e+08   \n",
       "14       -0.000000e+00      0.002322        0.000319    7.532297e+07   \n",
       "15       -0.000000e+00      0.018147        0.001086    6.697276e+07   \n",
       "16       -0.000000e+00      0.002871        0.000310    1.867866e+08   \n",
       "17       -0.000000e+00      0.020199        0.000613    1.177181e+08   \n",
       "\n",
       "    std_train_score  \n",
       "0      1.927217e+07  \n",
       "1      6.782553e+06  \n",
       "2      2.961109e+06  \n",
       "3      4.047487e+07  \n",
       "4      1.498960e+07  \n",
       "5      8.424973e+06  \n",
       "6      2.639683e+07  \n",
       "7      3.357661e+06  \n",
       "8      3.796810e+06  \n",
       "9      2.730057e+07  \n",
       "10     1.446900e+07  \n",
       "11     4.853344e+06  \n",
       "12     0.000000e+00  \n",
       "13     0.000000e+00  \n",
       "14     0.000000e+00  \n",
       "15     0.000000e+00  \n",
       "16     0.000000e+00  \n",
       "17     0.000000e+00  \n",
       "\n",
       "[18 rows x 23 columns]"
      ]
     },
     "execution_count": 91,
     "metadata": {},
     "output_type": "execute_result"
    }
   ],
   "source": [
    "pd.DataFrame(grid_search.cv_results_)"
   ]
  },
  {
   "cell_type": "code",
   "execution_count": 92,
   "metadata": {},
   "outputs": [
    {
     "data": {
      "text/plain": [
       "RandomizedSearchCV(cv=5, error_score='raise',\n",
       "          estimator=RandomForestRegressor(bootstrap=True, criterion='mse', max_depth=None,\n",
       "           max_features='auto', max_leaf_nodes=None,\n",
       "           min_impurity_split=1e-07, min_samples_leaf=1,\n",
       "           min_samples_split=2, min_weight_fraction_leaf=0.0,\n",
       "           n_estimators=10, n_jobs=1, oob_score=False, random_state=42,\n",
       "           verbose=0, warm_start=False),\n",
       "          fit_params={}, iid=True, n_iter=10, n_jobs=1,\n",
       "          param_distributions={'n_estimators': <scipy.stats._distn_infrastructure.rv_frozen object at 0x7ff6886eb978>, 'max_features': <scipy.stats._distn_infrastructure.rv_frozen object at 0x7ff6886eb630>},\n",
       "          pre_dispatch='2*n_jobs', random_state=42, refit=True,\n",
       "          return_train_score=True, scoring='neg_mean_squared_error',\n",
       "          verbose=0)"
      ]
     },
     "execution_count": 92,
     "metadata": {},
     "output_type": "execute_result"
    }
   ],
   "source": [
    "from sklearn.model_selection import RandomizedSearchCV\n",
    "from scipy.stats import randint\n",
    "\n",
    "param_distribs = {\n",
    "        'n_estimators': randint(low=1, high=200),\n",
    "        'max_features': randint(low=1, high=8),\n",
    "    }\n",
    "\n",
    "forest_reg = RandomForestRegressor(random_state=42)\n",
    "rnd_search = RandomizedSearchCV(forest_reg, param_distributions=param_distribs,\n",
    "                                n_iter=10, cv=5, scoring='neg_mean_squared_error', random_state=42)\n",
    "rnd_search.fit(housing_prepared, housing_labels)"
   ]
  },
  {
   "cell_type": "code",
   "execution_count": 93,
   "metadata": {},
   "outputs": [
    {
     "name": "stdout",
     "output_type": "stream",
     "text": [
      "49147.1524172 {'max_features': 7, 'n_estimators': 180}\n",
      "51396.8768969 {'max_features': 5, 'n_estimators': 15}\n",
      "50798.3025423 {'max_features': 3, 'n_estimators': 72}\n",
      "50840.744514 {'max_features': 5, 'n_estimators': 21}\n",
      "49276.1753033 {'max_features': 7, 'n_estimators': 122}\n",
      "50776.7360494 {'max_features': 3, 'n_estimators': 75}\n",
      "50682.7075546 {'max_features': 3, 'n_estimators': 88}\n",
      "49612.1525305 {'max_features': 5, 'n_estimators': 100}\n",
      "50472.6107336 {'max_features': 3, 'n_estimators': 150}\n",
      "64458.2538503 {'max_features': 5, 'n_estimators': 2}\n"
     ]
    }
   ],
   "source": [
    "cvres = rnd_search.cv_results_\n",
    "for mean_score, params in zip(cvres[\"mean_test_score\"], cvres[\"params\"]):\n",
    "    print(np.sqrt(-mean_score), params)"
   ]
  },
  {
   "cell_type": "code",
   "execution_count": 94,
   "metadata": {},
   "outputs": [
    {
     "data": {
      "text/plain": [
       "array([  7.33442355e-02,   6.29090705e-02,   4.11437985e-02,\n",
       "         1.46726854e-02,   1.41064835e-02,   1.48742809e-02,\n",
       "         1.42575993e-02,   3.66158981e-01,   5.64191792e-02,\n",
       "         1.08792957e-01,   5.33510773e-02,   1.03114883e-02,\n",
       "         1.64780994e-01,   6.02803867e-05,   1.96041560e-03,\n",
       "         2.85647464e-03])"
      ]
     },
     "execution_count": 94,
     "metadata": {},
     "output_type": "execute_result"
    }
   ],
   "source": [
    "feature_importances = grid_search.best_estimator_.feature_importances_\n",
    "feature_importances"
   ]
  },
  {
   "cell_type": "code",
   "execution_count": 95,
   "metadata": {},
   "outputs": [
    {
     "data": {
      "text/plain": [
       "[(0.36615898061813418, 'median_income'),\n",
       " (0.16478099356159051, 'INLAND'),\n",
       " (0.10879295677551573, 'pop_per_hhold'),\n",
       " (0.073344235516012421, 'longitude'),\n",
       " (0.062909070482620302, 'latitude'),\n",
       " (0.056419179181954007, 'rooms_per_hhold'),\n",
       " (0.053351077347675809, 'bedrooms_per_room'),\n",
       " (0.041143798478729635, 'housing_median_age'),\n",
       " (0.014874280890402767, 'population'),\n",
       " (0.014672685420543237, 'total_rooms'),\n",
       " (0.014257599323407807, 'households'),\n",
       " (0.014106483453584102, 'total_bedrooms'),\n",
       " (0.010311488326303787, '<1H OCEAN'),\n",
       " (0.0028564746373201579, 'NEAR OCEAN'),\n",
       " (0.0019604155994780701, 'NEAR BAY'),\n",
       " (6.0280386727365991e-05, 'ISLAND')]"
      ]
     },
     "execution_count": 95,
     "metadata": {},
     "output_type": "execute_result"
    }
   ],
   "source": [
    "extra_attribs = [\"rooms_per_hhold\", \"pop_per_hhold\", \"bedrooms_per_room\"]\n",
    "cat_one_hot_attribs = list(encoder.classes_)\n",
    "attributes = num_attribs + extra_attribs + cat_one_hot_attribs\n",
    "sorted(zip(feature_importances, attributes), reverse=True)"
   ]
  },
  {
   "cell_type": "code",
   "execution_count": 96,
   "metadata": {
    "collapsed": true
   },
   "outputs": [],
   "source": [
    "final_model = grid_search.best_estimator_\n",
    "\n",
    "X_test = strat_test_set.drop(\"median_house_value\", axis=1)\n",
    "y_test = strat_test_set[\"median_house_value\"].copy()\n",
    "\n",
    "X_test_prepared = full_pipeline.transform(X_test)\n",
    "final_predictions = final_model.predict(X_test_prepared)\n",
    "\n",
    "final_mse = mean_squared_error(y_test, final_predictions)\n",
    "final_rmse = np.sqrt(final_mse)"
   ]
  },
  {
   "cell_type": "code",
   "execution_count": 97,
   "metadata": {},
   "outputs": [
    {
     "data": {
      "text/plain": [
       "47766.003966433083"
      ]
     },
     "execution_count": 97,
     "metadata": {},
     "output_type": "execute_result"
    }
   ],
   "source": [
    "final_rmse"
   ]
  },
  {
   "cell_type": "markdown",
   "metadata": {},
   "source": [
    "## Model persistence using joblib"
   ]
  },
  {
   "cell_type": "code",
   "execution_count": 99,
   "metadata": {
    "collapsed": true
   },
   "outputs": [],
   "source": [
    "my_model = full_pipeline_with_predictor"
   ]
  },
  {
   "cell_type": "code",
   "execution_count": 100,
   "metadata": {
    "collapsed": true
   },
   "outputs": [],
   "source": [
    "from sklearn.externals import joblib\n",
    "joblib.dump(my_model, \"my_model.pkl\") # DIFF\n",
    "#...\n",
    "my_model_loaded = joblib.load(\"my_model.pkl\") # DIFF"
   ]
  }
 ],
 "metadata": {
  "kernelspec": {
   "display_name": "Python 3",
   "language": "python",
   "name": "python3"
  },
  "language_info": {
   "codemirror_mode": {
    "name": "ipython",
    "version": 3
   },
   "file_extension": ".py",
   "mimetype": "text/x-python",
   "name": "python",
   "nbconvert_exporter": "python",
   "pygments_lexer": "ipython3",
   "version": "3.6.2"
  },
  "nav_menu": {
   "height": "279px",
   "width": "309px"
  },
  "toc": {
   "navigate_menu": true,
   "number_sections": true,
   "sideBar": true,
   "threshold": 6,
   "toc_cell": false,
   "toc_section_display": "block",
   "toc_window_display": false
  }
 },
 "nbformat": 4,
 "nbformat_minor": 1
}
